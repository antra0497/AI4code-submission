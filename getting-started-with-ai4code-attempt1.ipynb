{
 "cells": [
  {
   "cell_type": "markdown",
   "id": "c6b96aed",
   "metadata": {
    "papermill": {
     "duration": 0.053209,
     "end_time": "2022-05-17T18:42:45.885769",
     "exception": false,
     "start_time": "2022-05-17T18:42:45.832560",
     "status": "completed"
    },
    "tags": []
   },
   "source": [
    "# Welcome to the Google AI4Code Competition! #\n",
    "\n",
    "In this competition you're challenged to reconstruct the order of Kaggle notebooks whose cells have been shuffled. Check out the [Competition Pages](https://www.kaggle.com/competitions/AI4Code/overview) for a complete overview.\n",
    "\n",
    "This notebook will walk you through making a submission with a simple ranking model. We'll look at how to:\n",
    "- Wrangle the competition data and create validation splits,\n",
    "- Represent the code cell orders with a feature,\n",
    "- Build a ranking model with XGBoost,\n",
    "- Evaluate predictions with a Python implementation of the competition metric, and,\n",
    "- Format predictions to make a successful submission.\n",
    "\n",
    "Our model will be able to learn roughly where a cell should go in a notebook based on what words it contains -- that, for example, cells containing \"Introduction\" or `import` should usually be near the beginning, while cells containing \"Submit\" or `submission.csv` should usually be near the end. These simple features are effective at reconstructing the global order of typical data science workflows. An understanding of the *interactions* or *relationships between cells*, however, will be required of the most successful solutions. We encourage you therefore to explore things like modern neural network language models for learning the relationships between natural language and computer code."
   ]
  },
  {
   "cell_type": "markdown",
   "id": "bc780e8e",
   "metadata": {
    "papermill": {
     "duration": 0.04696,
     "end_time": "2022-05-17T18:42:45.979328",
     "exception": false,
     "start_time": "2022-05-17T18:42:45.932368",
     "status": "completed"
    },
    "tags": []
   },
   "source": [
    "# Setup #"
   ]
  },
  {
   "cell_type": "code",
   "execution_count": 1,
   "id": "80da5b6c",
   "metadata": {
    "collapsed": false,
    "execution": {
     "iopub.execute_input": "2022-05-17T18:42:46.081445Z",
     "iopub.status.busy": "2022-05-17T18:42:46.080450Z",
     "iopub.status.idle": "2022-05-17T18:42:46.190618Z",
     "shell.execute_reply": "2022-05-17T18:42:46.189653Z"
    },
    "jupyter": {
     "outputs_hidden": false
    },
    "papermill": {
     "duration": 0.162811,
     "end_time": "2022-05-17T18:42:46.193118",
     "exception": false,
     "start_time": "2022-05-17T18:42:46.030307",
     "status": "completed"
    },
    "tags": []
   },
   "outputs": [],
   "source": [
    "import json\n",
    "from pathlib import Path\n",
    "\n",
    "import numpy as np\n",
    "import pandas as pd\n",
    "from scipy import sparse\n",
    "from tqdm import tqdm\n",
    "\n",
    "pd.options.display.width = 180\n",
    "pd.options.display.max_colwidth = 120\n",
    "\n",
    "data_dir = Path('../input/AI4Code')"
   ]
  },
  {
   "cell_type": "markdown",
   "id": "de807151",
   "metadata": {
    "papermill": {
     "duration": 0.046067,
     "end_time": "2022-05-17T18:42:46.285927",
     "exception": false,
     "start_time": "2022-05-17T18:42:46.239860",
     "status": "completed"
    },
    "tags": []
   },
   "source": [
    "# Load Data #"
   ]
  },
  {
   "cell_type": "markdown",
   "id": "0e015fad",
   "metadata": {
    "papermill": {
     "duration": 0.047162,
     "end_time": "2022-05-17T18:42:46.381155",
     "exception": false,
     "start_time": "2022-05-17T18:42:46.333993",
     "status": "completed"
    },
    "tags": []
   },
   "source": [
    "The notebooks are stored as individiual JSON files. They've been cleaned of the usual metadata present in Jupyter notebooks, leaving only the `cell_type` and `source`. The [Data](https://www.kaggle.com/competitions/AI4Code/data) page on the competition website has the full documentation of this dataset.\n",
    "\n",
    "We'll load the notebooks here and join them into a dataframe for easier processing. The full set of training data takes quite a while to load, so we'll just use a subset for this demonstration."
   ]
  },
  {
   "cell_type": "code",
   "execution_count": 2,
   "id": "bf5418a9",
   "metadata": {
    "collapsed": false,
    "execution": {
     "iopub.execute_input": "2022-05-17T18:42:46.477324Z",
     "iopub.status.busy": "2022-05-17T18:42:46.477024Z",
     "iopub.status.idle": "2022-05-17T18:44:27.624314Z",
     "shell.execute_reply": "2022-05-17T18:44:27.623533Z"
    },
    "jupyter": {
     "outputs_hidden": false
    },
    "papermill": {
     "duration": 101.197128,
     "end_time": "2022-05-17T18:44:27.626539",
     "exception": false,
     "start_time": "2022-05-17T18:42:46.429411",
     "status": "completed"
    },
    "tags": []
   },
   "outputs": [
    {
     "name": "stderr",
     "output_type": "stream",
     "text": [
      "Train NBs: 100%|██████████| 10000/10000 [01:34<00:00, 105.85it/s]\n"
     ]
    },
    {
     "data": {
      "text/html": [
       "<div>\n",
       "<style scoped>\n",
       "    .dataframe tbody tr th:only-of-type {\n",
       "        vertical-align: middle;\n",
       "    }\n",
       "\n",
       "    .dataframe tbody tr th {\n",
       "        vertical-align: top;\n",
       "    }\n",
       "\n",
       "    .dataframe thead th {\n",
       "        text-align: right;\n",
       "    }\n",
       "</style>\n",
       "<table border=\"1\" class=\"dataframe\">\n",
       "  <thead>\n",
       "    <tr style=\"text-align: right;\">\n",
       "      <th></th>\n",
       "      <th></th>\n",
       "      <th>cell_type</th>\n",
       "      <th>source</th>\n",
       "    </tr>\n",
       "    <tr>\n",
       "      <th>id</th>\n",
       "      <th>cell_id</th>\n",
       "      <th></th>\n",
       "      <th></th>\n",
       "    </tr>\n",
       "  </thead>\n",
       "  <tbody>\n",
       "    <tr>\n",
       "      <th rowspan=\"5\" valign=\"top\">000c0a9b2fef4d</th>\n",
       "      <th>1087237d</th>\n",
       "      <td>code</td>\n",
       "      <td># Data manipulation\\nimport pandas as pd\\nimport numpy as np\\n\\n# Data visualization\\nimport matplotlib.pyplot as pl...</td>\n",
       "    </tr>\n",
       "    <tr>\n",
       "      <th>d7209f1f</th>\n",
       "      <td>code</td>\n",
       "      <td>fifa_raw_dataset = pd.read_csv('../input/data.csv')</td>\n",
       "    </tr>\n",
       "    <tr>\n",
       "      <th>daf5b8ee</th>\n",
       "      <td>code</td>\n",
       "      <td>fifa_raw_dataset.head()</td>\n",
       "    </tr>\n",
       "    <tr>\n",
       "      <th>e404213c</th>\n",
       "      <td>code</td>\n",
       "      <td>fifa_raw_dataset.info()</td>\n",
       "    </tr>\n",
       "    <tr>\n",
       "      <th>2bad59b0</th>\n",
       "      <td>code</td>\n",
       "      <td>fifa_raw_dataset.shape</td>\n",
       "    </tr>\n",
       "    <tr>\n",
       "      <th>...</th>\n",
       "      <th>...</th>\n",
       "      <td>...</td>\n",
       "      <td>...</td>\n",
       "    </tr>\n",
       "    <tr>\n",
       "      <th rowspan=\"5\" valign=\"top\">fffc63ff750064</th>\n",
       "      <th>56aa8da7</th>\n",
       "      <td>code</td>\n",
       "      <td>\\nsubmission.to_csv('house_price_rf.csv', index = False)</td>\n",
       "    </tr>\n",
       "    <tr>\n",
       "      <th>411b85d9</th>\n",
       "      <td>markdown</td>\n",
       "      <td>1. # Data exploration</td>\n",
       "    </tr>\n",
       "    <tr>\n",
       "      <th>e7e67119</th>\n",
       "      <td>markdown</td>\n",
       "      <td># # Data preprocessing</td>\n",
       "    </tr>\n",
       "    <tr>\n",
       "      <th>8b54cf58</th>\n",
       "      <td>markdown</td>\n",
       "      <td># Post-process for submission</td>\n",
       "    </tr>\n",
       "    <tr>\n",
       "      <th>b3c6bc16</th>\n",
       "      <td>markdown</td>\n",
       "      <td># Define and fit model</td>\n",
       "    </tr>\n",
       "  </tbody>\n",
       "</table>\n",
       "<p>461166 rows × 2 columns</p>\n",
       "</div>"
      ],
      "text/plain": [
       "                        cell_type                                                                                                                   source\n",
       "id             cell_id                                                                                                                                    \n",
       "000c0a9b2fef4d 1087237d      code  # Data manipulation\\nimport pandas as pd\\nimport numpy as np\\n\\n# Data visualization\\nimport matplotlib.pyplot as pl...\n",
       "               d7209f1f      code                                                                      fifa_raw_dataset = pd.read_csv('../input/data.csv')\n",
       "               daf5b8ee      code                                                                                                  fifa_raw_dataset.head()\n",
       "               e404213c      code                                                                                                  fifa_raw_dataset.info()\n",
       "               2bad59b0      code                                                                                                   fifa_raw_dataset.shape\n",
       "...                           ...                                                                                                                      ...\n",
       "fffc63ff750064 56aa8da7      code                                                                 \\nsubmission.to_csv('house_price_rf.csv', index = False)\n",
       "               411b85d9  markdown                                                                                                    1. # Data exploration\n",
       "               e7e67119  markdown                                                                                                   # # Data preprocessing\n",
       "               8b54cf58  markdown                                                                                            # Post-process for submission\n",
       "               b3c6bc16  markdown                                                                                                   # Define and fit model\n",
       "\n",
       "[461166 rows x 2 columns]"
      ]
     },
     "execution_count": 2,
     "metadata": {},
     "output_type": "execute_result"
    }
   ],
   "source": [
    "NUM_TRAIN = 10000\n",
    "\n",
    "\n",
    "def read_notebook(path):\n",
    "    return (\n",
    "        pd.read_json(\n",
    "            path,\n",
    "            dtype={'cell_type': 'category', 'source': 'str'})\n",
    "        .assign(id=path.stem)\n",
    "        .rename_axis('cell_id')\n",
    "    )\n",
    "\n",
    "\n",
    "paths_train = list((data_dir / 'train').glob('*.json'))[:NUM_TRAIN]\n",
    "notebooks_train = [\n",
    "    read_notebook(path) for path in tqdm(paths_train, desc='Train NBs')\n",
    "]\n",
    "df = (\n",
    "    pd.concat(notebooks_train)\n",
    "    .set_index('id', append=True)\n",
    "    .swaplevel()\n",
    "    .sort_index(level='id', sort_remaining=False)\n",
    ")\n",
    "\n",
    "df"
   ]
  },
  {
   "cell_type": "markdown",
   "id": "c130b9a4",
   "metadata": {
    "papermill": {
     "duration": 0.36743,
     "end_time": "2022-05-17T18:44:28.359110",
     "exception": false,
     "start_time": "2022-05-17T18:44:27.991680",
     "status": "completed"
    },
    "tags": []
   },
   "source": [
    "Each notebook has all the code cells given first with the markdown cells following. The code cells are in the correct relative order, while the markdown cells are shuffled. In the next section, we'll see how to recover the correct orderings for notebooks in the training set."
   ]
  },
  {
   "cell_type": "code",
   "execution_count": 3,
   "id": "3d6c24b9",
   "metadata": {
    "execution": {
     "iopub.execute_input": "2022-05-17T18:44:29.094143Z",
     "iopub.status.busy": "2022-05-17T18:44:29.093709Z",
     "iopub.status.idle": "2022-05-17T18:44:29.120519Z",
     "shell.execute_reply": "2022-05-17T18:44:29.119152Z"
    },
    "papermill": {
     "duration": 0.3975,
     "end_time": "2022-05-17T18:44:29.122710",
     "exception": false,
     "start_time": "2022-05-17T18:44:28.725210",
     "status": "completed"
    },
    "tags": []
   },
   "outputs": [
    {
     "name": "stdout",
     "output_type": "stream",
     "text": [
      "Notebook: 00290ddf866418\n",
      "The disordered notebook:\n"
     ]
    },
    {
     "data": {
      "text/html": [
       "<div>\n",
       "<style scoped>\n",
       "    .dataframe tbody tr th:only-of-type {\n",
       "        vertical-align: middle;\n",
       "    }\n",
       "\n",
       "    .dataframe tbody tr th {\n",
       "        vertical-align: top;\n",
       "    }\n",
       "\n",
       "    .dataframe thead th {\n",
       "        text-align: right;\n",
       "    }\n",
       "</style>\n",
       "<table border=\"1\" class=\"dataframe\">\n",
       "  <thead>\n",
       "    <tr style=\"text-align: right;\">\n",
       "      <th></th>\n",
       "      <th>cell_type</th>\n",
       "      <th>source</th>\n",
       "    </tr>\n",
       "    <tr>\n",
       "      <th>cell_id</th>\n",
       "      <th></th>\n",
       "      <th></th>\n",
       "    </tr>\n",
       "  </thead>\n",
       "  <tbody>\n",
       "    <tr>\n",
       "      <th>4e6f32f6</th>\n",
       "      <td>code</td>\n",
       "      <td># This Python 3 environment comes with many helpful analytics libraries installed\\n# It is defined by the kaggle/pyt...</td>\n",
       "    </tr>\n",
       "    <tr>\n",
       "      <th>0aeca210</th>\n",
       "      <td>code</td>\n",
       "      <td>import warnings\\nimport random\\n\\nSEED=44\\nrandom.seed(SEED)\\nnp.random.seed(SEED)\\npd.set_option('display.width', N...</td>\n",
       "    </tr>\n",
       "    <tr>\n",
       "      <th>cadfdb16</th>\n",
       "      <td>code</td>\n",
       "      <td>train = pd.read_csv('/kaggle/input/tabular-playground-series-mar-2021/train.csv')\\ntest = pd.read_csv('/kaggle/input...</td>\n",
       "    </tr>\n",
       "    <tr>\n",
       "      <th>fe39c117</th>\n",
       "      <td>code</td>\n",
       "      <td>train.info()</td>\n",
       "    </tr>\n",
       "    <tr>\n",
       "      <th>bbc5f229</th>\n",
       "      <td>code</td>\n",
       "      <td>y = train.iloc[:,-1]\\nX = train.iloc[:,:-1]\\nZ = test</td>\n",
       "    </tr>\n",
       "    <tr>\n",
       "      <th>46cc92d1</th>\n",
       "      <td>code</td>\n",
       "      <td>def get_obj_cols(df):\\n    return [col for col in df.columns if df.dtypes[col] == np.object]</td>\n",
       "    </tr>\n",
       "    <tr>\n",
       "      <th>9d6ea72b</th>\n",
       "      <td>code</td>\n",
       "      <td>X_objs = get_obj_cols(X)\\nX_objs_idx = [X.columns.get_loc(col) for col in X_objs]\\nZ_objs = get_obj_cols(Z)\\nZ_objs_...</td>\n",
       "    </tr>\n",
       "    <tr>\n",
       "      <th>d0f88604</th>\n",
       "      <td>code</td>\n",
       "      <td>for obj in X_objs:\\n    X[obj] = X[obj].astype('category').cat.codes\\nfor obj in Z_objs:\\n    Z[obj] = Z[obj].astype...</td>\n",
       "    </tr>\n",
       "    <tr>\n",
       "      <th>8df28832</th>\n",
       "      <td>code</td>\n",
       "      <td>X.drop('id', axis=1, inplace=True)\\nZ.drop('id', axis=1, inplace=True)</td>\n",
       "    </tr>\n",
       "    <tr>\n",
       "      <th>8c01934e</th>\n",
       "      <td>code</td>\n",
       "      <td>from sklearn.model_selection import StratifiedKFold, cross_val_score\\nfrom sklearn.metrics import roc_auc_score\\nK = 10</td>\n",
       "    </tr>\n",
       "    <tr>\n",
       "      <th>18b4e8d6</th>\n",
       "      <td>code</td>\n",
       "      <td>skf = StratifiedKFold(n_splits=K, shuffle=True, random_state=SEED)</td>\n",
       "    </tr>\n",
       "    <tr>\n",
       "      <th>c012109d</th>\n",
       "      <td>code</td>\n",
       "      <td>df_model = pd.DataFrame(columns = [*[f'model_{i}' for i in range(K)], 'average_auc'])\\ndf_model</td>\n",
       "    </tr>\n",
       "    <tr>\n",
       "      <th>83ff0598</th>\n",
       "      <td>code</td>\n",
       "      <td>import lightgbm as lgbm</td>\n",
       "    </tr>\n",
       "    <tr>\n",
       "      <th>d35f13e5</th>\n",
       "      <td>code</td>\n",
       "      <td>params = {\\n    'learning_rate':1e-2,\\n    'max_bin':24,\\n    'n_estimators':1000,\\n    'device_type':'gpu',\\n    'm...</td>\n",
       "    </tr>\n",
       "    <tr>\n",
       "      <th>cfba39db</th>\n",
       "      <td>code</td>\n",
       "      <td>ctr = 0\\nmodel = []\\nauc_score = []\\nfor train_idx, val_idx in skf.split(X, y):\\n    Xt, Xv = X.loc[train_idx], X.lo...</td>\n",
       "    </tr>\n",
       "    <tr>\n",
       "      <th>fbc1c206</th>\n",
       "      <td>code</td>\n",
       "      <td>df_model.loc[df_model.shape[0]] = [\\n    *model,\\n    np.mean(auc_score)\\n]</td>\n",
       "    </tr>\n",
       "    <tr>\n",
       "      <th>ace03b55</th>\n",
       "      <td>code</td>\n",
       "      <td>df_model['average_auc']</td>\n",
       "    </tr>\n",
       "    <tr>\n",
       "      <th>671b78af</th>\n",
       "      <td>code</td>\n",
       "      <td>def predict(X):\\n    y_prob = []\\n    for i in range(K):\\n        y_prob.append(df_model.loc[0, f'model_{i}'].predic...</td>\n",
       "    </tr>\n",
       "    <tr>\n",
       "      <th>61d3ad05</th>\n",
       "      <td>code</td>\n",
       "      <td>from sklearn.model_selection import train_test_split</td>\n",
       "    </tr>\n",
       "    <tr>\n",
       "      <th>6d6683ea</th>\n",
       "      <td>code</td>\n",
       "      <td>Xt, Xv, yt, yv = train_test_split(X, y, test_size=0.2, random_state=SEED)</td>\n",
       "    </tr>\n",
       "    <tr>\n",
       "      <th>2f41ebe2</th>\n",
       "      <td>code</td>\n",
       "      <td>yv_prob = predict(Xv)\\nmetrics(yv, yv_prob)</td>\n",
       "    </tr>\n",
       "    <tr>\n",
       "      <th>9dae7ae9</th>\n",
       "      <td>code</td>\n",
       "      <td>test_prob = predict(Z)\\nsubmission = pd.read_csv(\"../input/tabular-playground-series-mar-2021/sample_submission.csv\"...</td>\n",
       "    </tr>\n",
       "    <tr>\n",
       "      <th>d3345791</th>\n",
       "      <td>markdown</td>\n",
       "      <td># Training</td>\n",
       "    </tr>\n",
       "    <tr>\n",
       "      <th>91194a54</th>\n",
       "      <td>markdown</td>\n",
       "      <td># Categorical</td>\n",
       "    </tr>\n",
       "    <tr>\n",
       "      <th>91d97bb2</th>\n",
       "      <td>markdown</td>\n",
       "      <td># Read Data</td>\n",
       "    </tr>\n",
       "  </tbody>\n",
       "</table>\n",
       "</div>"
      ],
      "text/plain": [
       "         cell_type                                                                                                                   source\n",
       "cell_id                                                                                                                                    \n",
       "4e6f32f6      code  # This Python 3 environment comes with many helpful analytics libraries installed\\n# It is defined by the kaggle/pyt...\n",
       "0aeca210      code  import warnings\\nimport random\\n\\nSEED=44\\nrandom.seed(SEED)\\nnp.random.seed(SEED)\\npd.set_option('display.width', N...\n",
       "cadfdb16      code  train = pd.read_csv('/kaggle/input/tabular-playground-series-mar-2021/train.csv')\\ntest = pd.read_csv('/kaggle/input...\n",
       "fe39c117      code                                                                                                             train.info()\n",
       "bbc5f229      code                                                                    y = train.iloc[:,-1]\\nX = train.iloc[:,:-1]\\nZ = test\n",
       "46cc92d1      code                             def get_obj_cols(df):\\n    return [col for col in df.columns if df.dtypes[col] == np.object]\n",
       "9d6ea72b      code  X_objs = get_obj_cols(X)\\nX_objs_idx = [X.columns.get_loc(col) for col in X_objs]\\nZ_objs = get_obj_cols(Z)\\nZ_objs_...\n",
       "d0f88604      code  for obj in X_objs:\\n    X[obj] = X[obj].astype('category').cat.codes\\nfor obj in Z_objs:\\n    Z[obj] = Z[obj].astype...\n",
       "8df28832      code                                                   X.drop('id', axis=1, inplace=True)\\nZ.drop('id', axis=1, inplace=True)\n",
       "8c01934e      code  from sklearn.model_selection import StratifiedKFold, cross_val_score\\nfrom sklearn.metrics import roc_auc_score\\nK = 10\n",
       "18b4e8d6      code                                                       skf = StratifiedKFold(n_splits=K, shuffle=True, random_state=SEED)\n",
       "c012109d      code                          df_model = pd.DataFrame(columns = [*[f'model_{i}' for i in range(K)], 'average_auc'])\\ndf_model\n",
       "83ff0598      code                                                                                                  import lightgbm as lgbm\n",
       "d35f13e5      code  params = {\\n    'learning_rate':1e-2,\\n    'max_bin':24,\\n    'n_estimators':1000,\\n    'device_type':'gpu',\\n    'm...\n",
       "cfba39db      code  ctr = 0\\nmodel = []\\nauc_score = []\\nfor train_idx, val_idx in skf.split(X, y):\\n    Xt, Xv = X.loc[train_idx], X.lo...\n",
       "fbc1c206      code                                              df_model.loc[df_model.shape[0]] = [\\n    *model,\\n    np.mean(auc_score)\\n]\n",
       "ace03b55      code                                                                                                  df_model['average_auc']\n",
       "671b78af      code  def predict(X):\\n    y_prob = []\\n    for i in range(K):\\n        y_prob.append(df_model.loc[0, f'model_{i}'].predic...\n",
       "61d3ad05      code                                                                     from sklearn.model_selection import train_test_split\n",
       "6d6683ea      code                                                Xt, Xv, yt, yv = train_test_split(X, y, test_size=0.2, random_state=SEED)\n",
       "2f41ebe2      code                                                                              yv_prob = predict(Xv)\\nmetrics(yv, yv_prob)\n",
       "9dae7ae9      code  test_prob = predict(Z)\\nsubmission = pd.read_csv(\"../input/tabular-playground-series-mar-2021/sample_submission.csv\"...\n",
       "d3345791  markdown                                                                                                               # Training\n",
       "91194a54  markdown                                                                                                            # Categorical\n",
       "91d97bb2  markdown                                                                                                              # Read Data"
      ]
     },
     "metadata": {},
     "output_type": "display_data"
    },
    {
     "name": "stdout",
     "output_type": "stream",
     "text": [
      "\n"
     ]
    }
   ],
   "source": [
    "# Get an example notebook\n",
    "nb_id = df.index.unique('id')[6]\n",
    "print('Notebook:', nb_id)\n",
    "\n",
    "print(\"The disordered notebook:\")\n",
    "nb = df.loc[nb_id, :]\n",
    "display(nb)\n",
    "print()"
   ]
  },
  {
   "cell_type": "markdown",
   "id": "1cd30733",
   "metadata": {
    "papermill": {
     "duration": 0.368418,
     "end_time": "2022-05-17T18:44:29.860219",
     "exception": false,
     "start_time": "2022-05-17T18:44:29.491801",
     "status": "completed"
    },
    "tags": []
   },
   "source": [
    "# Ordering the Cells #"
   ]
  },
  {
   "cell_type": "markdown",
   "id": "22e19209",
   "metadata": {
    "papermill": {
     "duration": 0.371358,
     "end_time": "2022-05-17T18:44:30.607290",
     "exception": false,
     "start_time": "2022-05-17T18:44:30.235932",
     "status": "completed"
    },
    "tags": []
   },
   "source": [
    "In the `train_orders.csv` file we have, for notebooks in the training set, the correct ordering of cells in terms of the cell ids."
   ]
  },
  {
   "cell_type": "code",
   "execution_count": 4,
   "id": "1cdf399b",
   "metadata": {
    "collapsed": false,
    "execution": {
     "iopub.execute_input": "2022-05-17T18:44:31.342690Z",
     "iopub.status.busy": "2022-05-17T18:44:31.342346Z",
     "iopub.status.idle": "2022-05-17T18:44:34.334538Z",
     "shell.execute_reply": "2022-05-17T18:44:34.333582Z"
    },
    "jupyter": {
     "outputs_hidden": false
    },
    "papermill": {
     "duration": 3.36342,
     "end_time": "2022-05-17T18:44:34.336841",
     "exception": false,
     "start_time": "2022-05-17T18:44:30.973421",
     "status": "completed"
    },
    "tags": []
   },
   "outputs": [
    {
     "data": {
      "text/plain": [
       "id\n",
       "00001756c60be8    [1862f0a6, 448eb224, 2a9e43d6, 7e2f170a, 038b763d, 77e56113, 2eefe0ef, 1ae087ab, 0beab1cd, 8ffe0b25, 9a78ab76, 0d136...\n",
       "00015c83e2717b    [2e94bd7a, 3e99dee9, b5e286ea, da4f7550, c417225b, 51e3cd89, 2600b4eb, 75b65993, cf195f8b, 25699d02, 72b3201a, f2c75...\n",
       "0001bdd4021779    [3fdc37be, 073782ca, 8ea7263c, 80543cd8, 38310c80, 073e27e5, 015d52a4, ad7679ef, 7fde4f04, 07c52510, 0a1a7a39, 0bcd3...\n",
       "0001daf4c2c76d    [97266564, a898e555, 86605076, 76cc2642, ef279279, df6c939f, 2476da96, 00f87d0a, ae93e8e6, 58aadb1d, d20b0094, 986fd...\n",
       "0002115f48f982                                 [9ec225f0, 18281c6c, e3b6b115, 4a044c54, 365fe576, a3188e54, b3f6e12d, ee7655ca, 84125b7a]\n",
       "                                                                           ...                                                           \n",
       "fffc30d5a0bc46    [09727c0c, ff1ea6a0, ddfef603, a01ce9b3, 3ba953ee, bf92a015, f4a0492a, 095812e6, 53125cfe, aa32a700, 63340e73, 06d8c...\n",
       "fffc3b44869198    [978a5137, faa48f03, 28dfb12a, eea2e812, 64fef97c, 4e0d1510, 58e68f2c, 8784e700, 4bd5a4cf, dc14bfec, 2aff7603, 8047d...\n",
       "fffc63ff750064    [5015c300, 411b85d9, 8238198c, f4781d1d, b5532930, e1f223e5, e7e67119, 4aaf741d, 7229cce6, a7fa3628, e4c2fa86, 1f8f9...\n",
       "fffcd063cda949    [7e6266ad, d8281fc5, d4ffcaef, 3e0e4a47, 21387fc8, cc229f9a, baed9c8b, d1bb21aa, 82979992, 65f95dad, eba4fa9e, c97e2...\n",
       "fffe1d764579d5    [1a63248d, 9c3b96a5, 1398a873, 4e2d4c2d, f71c538e, 8b44a5e8, 385dff7a, b8254ef8, 4d0e433e, debc496c, e15ae953, e4d79...\n",
       "Name: cell_order, Length: 139256, dtype: object"
      ]
     },
     "execution_count": 4,
     "metadata": {},
     "output_type": "execute_result"
    }
   ],
   "source": [
    "df_orders = pd.read_csv(\n",
    "    data_dir / 'train_orders.csv',\n",
    "    index_col='id',\n",
    "    squeeze=True,\n",
    ").str.split()  # Split the string representation of cell_ids into a list\n",
    "\n",
    "df_orders"
   ]
  },
  {
   "cell_type": "code",
   "execution_count": 5,
   "id": "96426cba",
   "metadata": {
    "execution": {
     "iopub.execute_input": "2022-05-17T18:44:35.074593Z",
     "iopub.status.busy": "2022-05-17T18:44:35.074291Z",
     "iopub.status.idle": "2022-05-17T18:44:35.090142Z",
     "shell.execute_reply": "2022-05-17T18:44:35.089308Z"
    },
    "papermill": {
     "duration": 0.387508,
     "end_time": "2022-05-17T18:44:35.093529",
     "exception": false,
     "start_time": "2022-05-17T18:44:34.706021",
     "status": "completed"
    },
    "tags": []
   },
   "outputs": [
    {
     "name": "stdout",
     "output_type": "stream",
     "text": [
      "The ordered notebook:\n"
     ]
    },
    {
     "data": {
      "text/html": [
       "<div>\n",
       "<style scoped>\n",
       "    .dataframe tbody tr th:only-of-type {\n",
       "        vertical-align: middle;\n",
       "    }\n",
       "\n",
       "    .dataframe tbody tr th {\n",
       "        vertical-align: top;\n",
       "    }\n",
       "\n",
       "    .dataframe thead th {\n",
       "        text-align: right;\n",
       "    }\n",
       "</style>\n",
       "<table border=\"1\" class=\"dataframe\">\n",
       "  <thead>\n",
       "    <tr style=\"text-align: right;\">\n",
       "      <th></th>\n",
       "      <th>cell_type</th>\n",
       "      <th>source</th>\n",
       "    </tr>\n",
       "    <tr>\n",
       "      <th>cell_id</th>\n",
       "      <th></th>\n",
       "      <th></th>\n",
       "    </tr>\n",
       "  </thead>\n",
       "  <tbody>\n",
       "    <tr>\n",
       "      <th>91d97bb2</th>\n",
       "      <td>markdown</td>\n",
       "      <td># Read Data</td>\n",
       "    </tr>\n",
       "    <tr>\n",
       "      <th>4e6f32f6</th>\n",
       "      <td>code</td>\n",
       "      <td># This Python 3 environment comes with many helpful analytics libraries installed\\n# It is defined by the kaggle/pyt...</td>\n",
       "    </tr>\n",
       "    <tr>\n",
       "      <th>0aeca210</th>\n",
       "      <td>code</td>\n",
       "      <td>import warnings\\nimport random\\n\\nSEED=44\\nrandom.seed(SEED)\\nnp.random.seed(SEED)\\npd.set_option('display.width', N...</td>\n",
       "    </tr>\n",
       "    <tr>\n",
       "      <th>cadfdb16</th>\n",
       "      <td>code</td>\n",
       "      <td>train = pd.read_csv('/kaggle/input/tabular-playground-series-mar-2021/train.csv')\\ntest = pd.read_csv('/kaggle/input...</td>\n",
       "    </tr>\n",
       "    <tr>\n",
       "      <th>fe39c117</th>\n",
       "      <td>code</td>\n",
       "      <td>train.info()</td>\n",
       "    </tr>\n",
       "    <tr>\n",
       "      <th>bbc5f229</th>\n",
       "      <td>code</td>\n",
       "      <td>y = train.iloc[:,-1]\\nX = train.iloc[:,:-1]\\nZ = test</td>\n",
       "    </tr>\n",
       "    <tr>\n",
       "      <th>91194a54</th>\n",
       "      <td>markdown</td>\n",
       "      <td># Categorical</td>\n",
       "    </tr>\n",
       "    <tr>\n",
       "      <th>46cc92d1</th>\n",
       "      <td>code</td>\n",
       "      <td>def get_obj_cols(df):\\n    return [col for col in df.columns if df.dtypes[col] == np.object]</td>\n",
       "    </tr>\n",
       "    <tr>\n",
       "      <th>9d6ea72b</th>\n",
       "      <td>code</td>\n",
       "      <td>X_objs = get_obj_cols(X)\\nX_objs_idx = [X.columns.get_loc(col) for col in X_objs]\\nZ_objs = get_obj_cols(Z)\\nZ_objs_...</td>\n",
       "    </tr>\n",
       "    <tr>\n",
       "      <th>d0f88604</th>\n",
       "      <td>code</td>\n",
       "      <td>for obj in X_objs:\\n    X[obj] = X[obj].astype('category').cat.codes\\nfor obj in Z_objs:\\n    Z[obj] = Z[obj].astype...</td>\n",
       "    </tr>\n",
       "    <tr>\n",
       "      <th>8df28832</th>\n",
       "      <td>code</td>\n",
       "      <td>X.drop('id', axis=1, inplace=True)\\nZ.drop('id', axis=1, inplace=True)</td>\n",
       "    </tr>\n",
       "    <tr>\n",
       "      <th>d3345791</th>\n",
       "      <td>markdown</td>\n",
       "      <td># Training</td>\n",
       "    </tr>\n",
       "    <tr>\n",
       "      <th>8c01934e</th>\n",
       "      <td>code</td>\n",
       "      <td>from sklearn.model_selection import StratifiedKFold, cross_val_score\\nfrom sklearn.metrics import roc_auc_score\\nK = 10</td>\n",
       "    </tr>\n",
       "    <tr>\n",
       "      <th>18b4e8d6</th>\n",
       "      <td>code</td>\n",
       "      <td>skf = StratifiedKFold(n_splits=K, shuffle=True, random_state=SEED)</td>\n",
       "    </tr>\n",
       "    <tr>\n",
       "      <th>c012109d</th>\n",
       "      <td>code</td>\n",
       "      <td>df_model = pd.DataFrame(columns = [*[f'model_{i}' for i in range(K)], 'average_auc'])\\ndf_model</td>\n",
       "    </tr>\n",
       "    <tr>\n",
       "      <th>83ff0598</th>\n",
       "      <td>code</td>\n",
       "      <td>import lightgbm as lgbm</td>\n",
       "    </tr>\n",
       "    <tr>\n",
       "      <th>d35f13e5</th>\n",
       "      <td>code</td>\n",
       "      <td>params = {\\n    'learning_rate':1e-2,\\n    'max_bin':24,\\n    'n_estimators':1000,\\n    'device_type':'gpu',\\n    'm...</td>\n",
       "    </tr>\n",
       "    <tr>\n",
       "      <th>cfba39db</th>\n",
       "      <td>code</td>\n",
       "      <td>ctr = 0\\nmodel = []\\nauc_score = []\\nfor train_idx, val_idx in skf.split(X, y):\\n    Xt, Xv = X.loc[train_idx], X.lo...</td>\n",
       "    </tr>\n",
       "    <tr>\n",
       "      <th>fbc1c206</th>\n",
       "      <td>code</td>\n",
       "      <td>df_model.loc[df_model.shape[0]] = [\\n    *model,\\n    np.mean(auc_score)\\n]</td>\n",
       "    </tr>\n",
       "    <tr>\n",
       "      <th>ace03b55</th>\n",
       "      <td>code</td>\n",
       "      <td>df_model['average_auc']</td>\n",
       "    </tr>\n",
       "    <tr>\n",
       "      <th>671b78af</th>\n",
       "      <td>code</td>\n",
       "      <td>def predict(X):\\n    y_prob = []\\n    for i in range(K):\\n        y_prob.append(df_model.loc[0, f'model_{i}'].predic...</td>\n",
       "    </tr>\n",
       "    <tr>\n",
       "      <th>61d3ad05</th>\n",
       "      <td>code</td>\n",
       "      <td>from sklearn.model_selection import train_test_split</td>\n",
       "    </tr>\n",
       "    <tr>\n",
       "      <th>6d6683ea</th>\n",
       "      <td>code</td>\n",
       "      <td>Xt, Xv, yt, yv = train_test_split(X, y, test_size=0.2, random_state=SEED)</td>\n",
       "    </tr>\n",
       "    <tr>\n",
       "      <th>2f41ebe2</th>\n",
       "      <td>code</td>\n",
       "      <td>yv_prob = predict(Xv)\\nmetrics(yv, yv_prob)</td>\n",
       "    </tr>\n",
       "    <tr>\n",
       "      <th>9dae7ae9</th>\n",
       "      <td>code</td>\n",
       "      <td>test_prob = predict(Z)\\nsubmission = pd.read_csv(\"../input/tabular-playground-series-mar-2021/sample_submission.csv\"...</td>\n",
       "    </tr>\n",
       "  </tbody>\n",
       "</table>\n",
       "</div>"
      ],
      "text/plain": [
       "         cell_type                                                                                                                   source\n",
       "cell_id                                                                                                                                    \n",
       "91d97bb2  markdown                                                                                                              # Read Data\n",
       "4e6f32f6      code  # This Python 3 environment comes with many helpful analytics libraries installed\\n# It is defined by the kaggle/pyt...\n",
       "0aeca210      code  import warnings\\nimport random\\n\\nSEED=44\\nrandom.seed(SEED)\\nnp.random.seed(SEED)\\npd.set_option('display.width', N...\n",
       "cadfdb16      code  train = pd.read_csv('/kaggle/input/tabular-playground-series-mar-2021/train.csv')\\ntest = pd.read_csv('/kaggle/input...\n",
       "fe39c117      code                                                                                                             train.info()\n",
       "bbc5f229      code                                                                    y = train.iloc[:,-1]\\nX = train.iloc[:,:-1]\\nZ = test\n",
       "91194a54  markdown                                                                                                            # Categorical\n",
       "46cc92d1      code                             def get_obj_cols(df):\\n    return [col for col in df.columns if df.dtypes[col] == np.object]\n",
       "9d6ea72b      code  X_objs = get_obj_cols(X)\\nX_objs_idx = [X.columns.get_loc(col) for col in X_objs]\\nZ_objs = get_obj_cols(Z)\\nZ_objs_...\n",
       "d0f88604      code  for obj in X_objs:\\n    X[obj] = X[obj].astype('category').cat.codes\\nfor obj in Z_objs:\\n    Z[obj] = Z[obj].astype...\n",
       "8df28832      code                                                   X.drop('id', axis=1, inplace=True)\\nZ.drop('id', axis=1, inplace=True)\n",
       "d3345791  markdown                                                                                                               # Training\n",
       "8c01934e      code  from sklearn.model_selection import StratifiedKFold, cross_val_score\\nfrom sklearn.metrics import roc_auc_score\\nK = 10\n",
       "18b4e8d6      code                                                       skf = StratifiedKFold(n_splits=K, shuffle=True, random_state=SEED)\n",
       "c012109d      code                          df_model = pd.DataFrame(columns = [*[f'model_{i}' for i in range(K)], 'average_auc'])\\ndf_model\n",
       "83ff0598      code                                                                                                  import lightgbm as lgbm\n",
       "d35f13e5      code  params = {\\n    'learning_rate':1e-2,\\n    'max_bin':24,\\n    'n_estimators':1000,\\n    'device_type':'gpu',\\n    'm...\n",
       "cfba39db      code  ctr = 0\\nmodel = []\\nauc_score = []\\nfor train_idx, val_idx in skf.split(X, y):\\n    Xt, Xv = X.loc[train_idx], X.lo...\n",
       "fbc1c206      code                                              df_model.loc[df_model.shape[0]] = [\\n    *model,\\n    np.mean(auc_score)\\n]\n",
       "ace03b55      code                                                                                                  df_model['average_auc']\n",
       "671b78af      code  def predict(X):\\n    y_prob = []\\n    for i in range(K):\\n        y_prob.append(df_model.loc[0, f'model_{i}'].predic...\n",
       "61d3ad05      code                                                                     from sklearn.model_selection import train_test_split\n",
       "6d6683ea      code                                                Xt, Xv, yt, yv = train_test_split(X, y, test_size=0.2, random_state=SEED)\n",
       "2f41ebe2      code                                                                              yv_prob = predict(Xv)\\nmetrics(yv, yv_prob)\n",
       "9dae7ae9      code  test_prob = predict(Z)\\nsubmission = pd.read_csv(\"../input/tabular-playground-series-mar-2021/sample_submission.csv\"..."
      ]
     },
     "execution_count": 5,
     "metadata": {},
     "output_type": "execute_result"
    }
   ],
   "source": [
    "# Get the correct order\n",
    "cell_order = df_orders.loc[nb_id]\n",
    "\n",
    "print(\"The ordered notebook:\")\n",
    "nb.loc[cell_order, :]"
   ]
  },
  {
   "cell_type": "markdown",
   "id": "85c62ffb",
   "metadata": {
    "papermill": {
     "duration": 0.395325,
     "end_time": "2022-05-17T18:44:35.858636",
     "exception": false,
     "start_time": "2022-05-17T18:44:35.463311",
     "status": "completed"
    },
    "tags": []
   },
   "source": [
    "The correct numeric position of a cell we will call the **rank** of the cell. We can find the ranks of the cells within a notebook by referencing the true ordering of cell ids as given in `train_orders.csv`."
   ]
  },
  {
   "cell_type": "code",
   "execution_count": 6,
   "id": "1f45b6a5",
   "metadata": {
    "execution": {
     "iopub.execute_input": "2022-05-17T18:44:36.600605Z",
     "iopub.status.busy": "2022-05-17T18:44:36.600311Z",
     "iopub.status.idle": "2022-05-17T18:44:36.615238Z",
     "shell.execute_reply": "2022-05-17T18:44:36.614364Z"
    },
    "papermill": {
     "duration": 0.385423,
     "end_time": "2022-05-17T18:44:36.617760",
     "exception": false,
     "start_time": "2022-05-17T18:44:36.232337",
     "status": "completed"
    },
    "tags": []
   },
   "outputs": [
    {
     "data": {
      "text/html": [
       "<div>\n",
       "<style scoped>\n",
       "    .dataframe tbody tr th:only-of-type {\n",
       "        vertical-align: middle;\n",
       "    }\n",
       "\n",
       "    .dataframe tbody tr th {\n",
       "        vertical-align: top;\n",
       "    }\n",
       "\n",
       "    .dataframe thead th {\n",
       "        text-align: right;\n",
       "    }\n",
       "</style>\n",
       "<table border=\"1\" class=\"dataframe\">\n",
       "  <thead>\n",
       "    <tr style=\"text-align: right;\">\n",
       "      <th></th>\n",
       "      <th>rank</th>\n",
       "      <th>cell_type</th>\n",
       "      <th>source</th>\n",
       "    </tr>\n",
       "    <tr>\n",
       "      <th>cell_id</th>\n",
       "      <th></th>\n",
       "      <th></th>\n",
       "      <th></th>\n",
       "    </tr>\n",
       "  </thead>\n",
       "  <tbody>\n",
       "    <tr>\n",
       "      <th>4e6f32f6</th>\n",
       "      <td>1</td>\n",
       "      <td>code</td>\n",
       "      <td># This Python 3 environment comes with many helpful analytics libraries installed\\n# It is defined by the kaggle/pyt...</td>\n",
       "    </tr>\n",
       "    <tr>\n",
       "      <th>0aeca210</th>\n",
       "      <td>2</td>\n",
       "      <td>code</td>\n",
       "      <td>import warnings\\nimport random\\n\\nSEED=44\\nrandom.seed(SEED)\\nnp.random.seed(SEED)\\npd.set_option('display.width', N...</td>\n",
       "    </tr>\n",
       "    <tr>\n",
       "      <th>cadfdb16</th>\n",
       "      <td>3</td>\n",
       "      <td>code</td>\n",
       "      <td>train = pd.read_csv('/kaggle/input/tabular-playground-series-mar-2021/train.csv')\\ntest = pd.read_csv('/kaggle/input...</td>\n",
       "    </tr>\n",
       "    <tr>\n",
       "      <th>fe39c117</th>\n",
       "      <td>4</td>\n",
       "      <td>code</td>\n",
       "      <td>train.info()</td>\n",
       "    </tr>\n",
       "    <tr>\n",
       "      <th>bbc5f229</th>\n",
       "      <td>5</td>\n",
       "      <td>code</td>\n",
       "      <td>y = train.iloc[:,-1]\\nX = train.iloc[:,:-1]\\nZ = test</td>\n",
       "    </tr>\n",
       "    <tr>\n",
       "      <th>46cc92d1</th>\n",
       "      <td>7</td>\n",
       "      <td>code</td>\n",
       "      <td>def get_obj_cols(df):\\n    return [col for col in df.columns if df.dtypes[col] == np.object]</td>\n",
       "    </tr>\n",
       "    <tr>\n",
       "      <th>9d6ea72b</th>\n",
       "      <td>8</td>\n",
       "      <td>code</td>\n",
       "      <td>X_objs = get_obj_cols(X)\\nX_objs_idx = [X.columns.get_loc(col) for col in X_objs]\\nZ_objs = get_obj_cols(Z)\\nZ_objs_...</td>\n",
       "    </tr>\n",
       "    <tr>\n",
       "      <th>d0f88604</th>\n",
       "      <td>9</td>\n",
       "      <td>code</td>\n",
       "      <td>for obj in X_objs:\\n    X[obj] = X[obj].astype('category').cat.codes\\nfor obj in Z_objs:\\n    Z[obj] = Z[obj].astype...</td>\n",
       "    </tr>\n",
       "    <tr>\n",
       "      <th>8df28832</th>\n",
       "      <td>10</td>\n",
       "      <td>code</td>\n",
       "      <td>X.drop('id', axis=1, inplace=True)\\nZ.drop('id', axis=1, inplace=True)</td>\n",
       "    </tr>\n",
       "    <tr>\n",
       "      <th>8c01934e</th>\n",
       "      <td>12</td>\n",
       "      <td>code</td>\n",
       "      <td>from sklearn.model_selection import StratifiedKFold, cross_val_score\\nfrom sklearn.metrics import roc_auc_score\\nK = 10</td>\n",
       "    </tr>\n",
       "    <tr>\n",
       "      <th>18b4e8d6</th>\n",
       "      <td>13</td>\n",
       "      <td>code</td>\n",
       "      <td>skf = StratifiedKFold(n_splits=K, shuffle=True, random_state=SEED)</td>\n",
       "    </tr>\n",
       "    <tr>\n",
       "      <th>c012109d</th>\n",
       "      <td>14</td>\n",
       "      <td>code</td>\n",
       "      <td>df_model = pd.DataFrame(columns = [*[f'model_{i}' for i in range(K)], 'average_auc'])\\ndf_model</td>\n",
       "    </tr>\n",
       "    <tr>\n",
       "      <th>83ff0598</th>\n",
       "      <td>15</td>\n",
       "      <td>code</td>\n",
       "      <td>import lightgbm as lgbm</td>\n",
       "    </tr>\n",
       "    <tr>\n",
       "      <th>d35f13e5</th>\n",
       "      <td>16</td>\n",
       "      <td>code</td>\n",
       "      <td>params = {\\n    'learning_rate':1e-2,\\n    'max_bin':24,\\n    'n_estimators':1000,\\n    'device_type':'gpu',\\n    'm...</td>\n",
       "    </tr>\n",
       "    <tr>\n",
       "      <th>cfba39db</th>\n",
       "      <td>17</td>\n",
       "      <td>code</td>\n",
       "      <td>ctr = 0\\nmodel = []\\nauc_score = []\\nfor train_idx, val_idx in skf.split(X, y):\\n    Xt, Xv = X.loc[train_idx], X.lo...</td>\n",
       "    </tr>\n",
       "    <tr>\n",
       "      <th>fbc1c206</th>\n",
       "      <td>18</td>\n",
       "      <td>code</td>\n",
       "      <td>df_model.loc[df_model.shape[0]] = [\\n    *model,\\n    np.mean(auc_score)\\n]</td>\n",
       "    </tr>\n",
       "    <tr>\n",
       "      <th>ace03b55</th>\n",
       "      <td>19</td>\n",
       "      <td>code</td>\n",
       "      <td>df_model['average_auc']</td>\n",
       "    </tr>\n",
       "    <tr>\n",
       "      <th>671b78af</th>\n",
       "      <td>20</td>\n",
       "      <td>code</td>\n",
       "      <td>def predict(X):\\n    y_prob = []\\n    for i in range(K):\\n        y_prob.append(df_model.loc[0, f'model_{i}'].predic...</td>\n",
       "    </tr>\n",
       "    <tr>\n",
       "      <th>61d3ad05</th>\n",
       "      <td>21</td>\n",
       "      <td>code</td>\n",
       "      <td>from sklearn.model_selection import train_test_split</td>\n",
       "    </tr>\n",
       "    <tr>\n",
       "      <th>6d6683ea</th>\n",
       "      <td>22</td>\n",
       "      <td>code</td>\n",
       "      <td>Xt, Xv, yt, yv = train_test_split(X, y, test_size=0.2, random_state=SEED)</td>\n",
       "    </tr>\n",
       "    <tr>\n",
       "      <th>2f41ebe2</th>\n",
       "      <td>23</td>\n",
       "      <td>code</td>\n",
       "      <td>yv_prob = predict(Xv)\\nmetrics(yv, yv_prob)</td>\n",
       "    </tr>\n",
       "    <tr>\n",
       "      <th>9dae7ae9</th>\n",
       "      <td>24</td>\n",
       "      <td>code</td>\n",
       "      <td>test_prob = predict(Z)\\nsubmission = pd.read_csv(\"../input/tabular-playground-series-mar-2021/sample_submission.csv\"...</td>\n",
       "    </tr>\n",
       "    <tr>\n",
       "      <th>d3345791</th>\n",
       "      <td>11</td>\n",
       "      <td>markdown</td>\n",
       "      <td># Training</td>\n",
       "    </tr>\n",
       "    <tr>\n",
       "      <th>91194a54</th>\n",
       "      <td>6</td>\n",
       "      <td>markdown</td>\n",
       "      <td># Categorical</td>\n",
       "    </tr>\n",
       "    <tr>\n",
       "      <th>91d97bb2</th>\n",
       "      <td>0</td>\n",
       "      <td>markdown</td>\n",
       "      <td># Read Data</td>\n",
       "    </tr>\n",
       "  </tbody>\n",
       "</table>\n",
       "</div>"
      ],
      "text/plain": [
       "          rank cell_type                                                                                                                   source\n",
       "cell_id                                                                                                                                          \n",
       "4e6f32f6     1      code  # This Python 3 environment comes with many helpful analytics libraries installed\\n# It is defined by the kaggle/pyt...\n",
       "0aeca210     2      code  import warnings\\nimport random\\n\\nSEED=44\\nrandom.seed(SEED)\\nnp.random.seed(SEED)\\npd.set_option('display.width', N...\n",
       "cadfdb16     3      code  train = pd.read_csv('/kaggle/input/tabular-playground-series-mar-2021/train.csv')\\ntest = pd.read_csv('/kaggle/input...\n",
       "fe39c117     4      code                                                                                                             train.info()\n",
       "bbc5f229     5      code                                                                    y = train.iloc[:,-1]\\nX = train.iloc[:,:-1]\\nZ = test\n",
       "46cc92d1     7      code                             def get_obj_cols(df):\\n    return [col for col in df.columns if df.dtypes[col] == np.object]\n",
       "9d6ea72b     8      code  X_objs = get_obj_cols(X)\\nX_objs_idx = [X.columns.get_loc(col) for col in X_objs]\\nZ_objs = get_obj_cols(Z)\\nZ_objs_...\n",
       "d0f88604     9      code  for obj in X_objs:\\n    X[obj] = X[obj].astype('category').cat.codes\\nfor obj in Z_objs:\\n    Z[obj] = Z[obj].astype...\n",
       "8df28832    10      code                                                   X.drop('id', axis=1, inplace=True)\\nZ.drop('id', axis=1, inplace=True)\n",
       "8c01934e    12      code  from sklearn.model_selection import StratifiedKFold, cross_val_score\\nfrom sklearn.metrics import roc_auc_score\\nK = 10\n",
       "18b4e8d6    13      code                                                       skf = StratifiedKFold(n_splits=K, shuffle=True, random_state=SEED)\n",
       "c012109d    14      code                          df_model = pd.DataFrame(columns = [*[f'model_{i}' for i in range(K)], 'average_auc'])\\ndf_model\n",
       "83ff0598    15      code                                                                                                  import lightgbm as lgbm\n",
       "d35f13e5    16      code  params = {\\n    'learning_rate':1e-2,\\n    'max_bin':24,\\n    'n_estimators':1000,\\n    'device_type':'gpu',\\n    'm...\n",
       "cfba39db    17      code  ctr = 0\\nmodel = []\\nauc_score = []\\nfor train_idx, val_idx in skf.split(X, y):\\n    Xt, Xv = X.loc[train_idx], X.lo...\n",
       "fbc1c206    18      code                                              df_model.loc[df_model.shape[0]] = [\\n    *model,\\n    np.mean(auc_score)\\n]\n",
       "ace03b55    19      code                                                                                                  df_model['average_auc']\n",
       "671b78af    20      code  def predict(X):\\n    y_prob = []\\n    for i in range(K):\\n        y_prob.append(df_model.loc[0, f'model_{i}'].predic...\n",
       "61d3ad05    21      code                                                                     from sklearn.model_selection import train_test_split\n",
       "6d6683ea    22      code                                                Xt, Xv, yt, yv = train_test_split(X, y, test_size=0.2, random_state=SEED)\n",
       "2f41ebe2    23      code                                                                              yv_prob = predict(Xv)\\nmetrics(yv, yv_prob)\n",
       "9dae7ae9    24      code  test_prob = predict(Z)\\nsubmission = pd.read_csv(\"../input/tabular-playground-series-mar-2021/sample_submission.csv\"...\n",
       "d3345791    11  markdown                                                                                                               # Training\n",
       "91194a54     6  markdown                                                                                                            # Categorical\n",
       "91d97bb2     0  markdown                                                                                                              # Read Data"
      ]
     },
     "execution_count": 6,
     "metadata": {},
     "output_type": "execute_result"
    }
   ],
   "source": [
    "def get_ranks(base, derived):\n",
    "    return [base.index(d) for d in derived]\n",
    "\n",
    "cell_ranks = get_ranks(cell_order, list(nb.index))\n",
    "nb.insert(0, 'rank', cell_ranks)\n",
    "\n",
    "nb"
   ]
  },
  {
   "cell_type": "markdown",
   "id": "2b5bfb74",
   "metadata": {
    "papermill": {
     "duration": 0.401176,
     "end_time": "2022-05-17T18:44:37.428859",
     "exception": false,
     "start_time": "2022-05-17T18:44:37.027683",
     "status": "completed"
    },
    "tags": []
   },
   "source": [
    "Sorting a notebook by the cell ranks is another way to order the notebook."
   ]
  },
  {
   "cell_type": "code",
   "execution_count": 7,
   "id": "591f6a8a",
   "metadata": {
    "execution": {
     "iopub.execute_input": "2022-05-17T18:44:38.188901Z",
     "iopub.status.busy": "2022-05-17T18:44:38.188621Z",
     "iopub.status.idle": "2022-05-17T18:44:38.198966Z",
     "shell.execute_reply": "2022-05-17T18:44:38.198302Z"
    },
    "papermill": {
     "duration": 0.386464,
     "end_time": "2022-05-17T18:44:38.201017",
     "exception": false,
     "start_time": "2022-05-17T18:44:37.814553",
     "status": "completed"
    },
    "tags": []
   },
   "outputs": [],
   "source": [
    "from pandas.testing import assert_frame_equal\n",
    "\n",
    "assert_frame_equal(nb.loc[cell_order, :], nb.sort_values('rank'))"
   ]
  },
  {
   "cell_type": "markdown",
   "id": "37c01f70",
   "metadata": {
    "papermill": {
     "duration": 0.370078,
     "end_time": "2022-05-17T18:44:38.942307",
     "exception": false,
     "start_time": "2022-05-17T18:44:38.572229",
     "status": "completed"
    },
    "tags": []
   },
   "source": [
    "The algorithm we'll be using for our baseline model uses the cell ranks as the target, so let's create a dataframe of the ranks for each notebook."
   ]
  },
  {
   "cell_type": "code",
   "execution_count": 8,
   "id": "9e6d2e24",
   "metadata": {
    "execution": {
     "iopub.execute_input": "2022-05-17T18:44:39.685483Z",
     "iopub.status.busy": "2022-05-17T18:44:39.685170Z",
     "iopub.status.idle": "2022-05-17T18:44:42.981209Z",
     "shell.execute_reply": "2022-05-17T18:44:42.980305Z"
    },
    "papermill": {
     "duration": 3.668781,
     "end_time": "2022-05-17T18:44:42.983589",
     "exception": false,
     "start_time": "2022-05-17T18:44:39.314808",
     "status": "completed"
    },
    "tags": []
   },
   "outputs": [
    {
     "data": {
      "text/html": [
       "<div>\n",
       "<style scoped>\n",
       "    .dataframe tbody tr th:only-of-type {\n",
       "        vertical-align: middle;\n",
       "    }\n",
       "\n",
       "    .dataframe tbody tr th {\n",
       "        vertical-align: top;\n",
       "    }\n",
       "\n",
       "    .dataframe thead th {\n",
       "        text-align: right;\n",
       "    }\n",
       "</style>\n",
       "<table border=\"1\" class=\"dataframe\">\n",
       "  <thead>\n",
       "    <tr style=\"text-align: right;\">\n",
       "      <th></th>\n",
       "      <th></th>\n",
       "      <th>rank</th>\n",
       "    </tr>\n",
       "    <tr>\n",
       "      <th>id</th>\n",
       "      <th>cell_id</th>\n",
       "      <th></th>\n",
       "    </tr>\n",
       "  </thead>\n",
       "  <tbody>\n",
       "    <tr>\n",
       "      <th rowspan=\"5\" valign=\"top\">000c0a9b2fef4d</th>\n",
       "      <th>1087237d</th>\n",
       "      <td>2</td>\n",
       "    </tr>\n",
       "    <tr>\n",
       "      <th>d7209f1f</th>\n",
       "      <td>4</td>\n",
       "    </tr>\n",
       "    <tr>\n",
       "      <th>daf5b8ee</th>\n",
       "      <td>6</td>\n",
       "    </tr>\n",
       "    <tr>\n",
       "      <th>e404213c</th>\n",
       "      <td>7</td>\n",
       "    </tr>\n",
       "    <tr>\n",
       "      <th>2bad59b0</th>\n",
       "      <td>8</td>\n",
       "    </tr>\n",
       "    <tr>\n",
       "      <th>...</th>\n",
       "      <th>...</th>\n",
       "      <td>...</td>\n",
       "    </tr>\n",
       "    <tr>\n",
       "      <th rowspan=\"5\" valign=\"top\">fffc63ff750064</th>\n",
       "      <th>56aa8da7</th>\n",
       "      <td>25</td>\n",
       "    </tr>\n",
       "    <tr>\n",
       "      <th>411b85d9</th>\n",
       "      <td>1</td>\n",
       "    </tr>\n",
       "    <tr>\n",
       "      <th>e7e67119</th>\n",
       "      <td>6</td>\n",
       "    </tr>\n",
       "    <tr>\n",
       "      <th>8b54cf58</th>\n",
       "      <td>22</td>\n",
       "    </tr>\n",
       "    <tr>\n",
       "      <th>b3c6bc16</th>\n",
       "      <td>18</td>\n",
       "    </tr>\n",
       "  </tbody>\n",
       "</table>\n",
       "<p>461166 rows × 1 columns</p>\n",
       "</div>"
      ],
      "text/plain": [
       "                        rank\n",
       "id             cell_id      \n",
       "000c0a9b2fef4d 1087237d    2\n",
       "               d7209f1f    4\n",
       "               daf5b8ee    6\n",
       "               e404213c    7\n",
       "               2bad59b0    8\n",
       "...                      ...\n",
       "fffc63ff750064 56aa8da7   25\n",
       "               411b85d9    1\n",
       "               e7e67119    6\n",
       "               8b54cf58   22\n",
       "               b3c6bc16   18\n",
       "\n",
       "[461166 rows x 1 columns]"
      ]
     },
     "execution_count": 8,
     "metadata": {},
     "output_type": "execute_result"
    }
   ],
   "source": [
    "df_orders_ = df_orders.to_frame().join(\n",
    "    df.reset_index('cell_id').groupby('id')['cell_id'].apply(list),\n",
    "    how='right',\n",
    ")\n",
    "\n",
    "ranks = {}\n",
    "for id_, cell_order, cell_id in df_orders_.itertuples():\n",
    "    ranks[id_] = {'cell_id': cell_id, 'rank': get_ranks(cell_order, cell_id)}\n",
    "\n",
    "df_ranks = (\n",
    "    pd.DataFrame\n",
    "    .from_dict(ranks, orient='index')\n",
    "    .rename_axis('id')\n",
    "    .apply(pd.Series.explode)\n",
    "    .set_index('cell_id', append=True)\n",
    ")\n",
    "\n",
    "df_ranks"
   ]
  },
  {
   "cell_type": "markdown",
   "id": "5dce3fb6",
   "metadata": {
    "papermill": {
     "duration": 0.371101,
     "end_time": "2022-05-17T18:44:43.727749",
     "exception": false,
     "start_time": "2022-05-17T18:44:43.356648",
     "status": "completed"
    },
    "tags": []
   },
   "source": [
    "# Splits #"
   ]
  },
  {
   "cell_type": "markdown",
   "id": "74b31695",
   "metadata": {
    "papermill": {
     "duration": 0.373531,
     "end_time": "2022-05-17T18:44:44.473559",
     "exception": false,
     "start_time": "2022-05-17T18:44:44.100028",
     "status": "completed"
    },
    "tags": []
   },
   "source": [
    "The `df_ancestors.csv` file identifies groups of notebooks derived from a common origin, that is, notebooks belonging to the same forking tree."
   ]
  },
  {
   "cell_type": "code",
   "execution_count": 9,
   "id": "adf7bae3",
   "metadata": {
    "collapsed": false,
    "execution": {
     "iopub.execute_input": "2022-05-17T18:44:45.220013Z",
     "iopub.status.busy": "2022-05-17T18:44:45.219540Z",
     "iopub.status.idle": "2022-05-17T18:44:45.483553Z",
     "shell.execute_reply": "2022-05-17T18:44:45.482461Z"
    },
    "jupyter": {
     "outputs_hidden": false
    },
    "papermill": {
     "duration": 0.640148,
     "end_time": "2022-05-17T18:44:45.485726",
     "exception": false,
     "start_time": "2022-05-17T18:44:44.845578",
     "status": "completed"
    },
    "tags": []
   },
   "outputs": [
    {
     "data": {
      "text/html": [
       "<div>\n",
       "<style scoped>\n",
       "    .dataframe tbody tr th:only-of-type {\n",
       "        vertical-align: middle;\n",
       "    }\n",
       "\n",
       "    .dataframe tbody tr th {\n",
       "        vertical-align: top;\n",
       "    }\n",
       "\n",
       "    .dataframe thead th {\n",
       "        text-align: right;\n",
       "    }\n",
       "</style>\n",
       "<table border=\"1\" class=\"dataframe\">\n",
       "  <thead>\n",
       "    <tr style=\"text-align: right;\">\n",
       "      <th></th>\n",
       "      <th>ancestor_id</th>\n",
       "      <th>parent_id</th>\n",
       "    </tr>\n",
       "    <tr>\n",
       "      <th>id</th>\n",
       "      <th></th>\n",
       "      <th></th>\n",
       "    </tr>\n",
       "  </thead>\n",
       "  <tbody>\n",
       "    <tr>\n",
       "      <th>00001756c60be8</th>\n",
       "      <td>945aea18</td>\n",
       "      <td>NaN</td>\n",
       "    </tr>\n",
       "    <tr>\n",
       "      <th>00015c83e2717b</th>\n",
       "      <td>aa2da37e</td>\n",
       "      <td>317b65d12af9df</td>\n",
       "    </tr>\n",
       "    <tr>\n",
       "      <th>0001bdd4021779</th>\n",
       "      <td>a7711fde</td>\n",
       "      <td>NaN</td>\n",
       "    </tr>\n",
       "    <tr>\n",
       "      <th>0001daf4c2c76d</th>\n",
       "      <td>090152ca</td>\n",
       "      <td>NaN</td>\n",
       "    </tr>\n",
       "    <tr>\n",
       "      <th>0002115f48f982</th>\n",
       "      <td>272b483a</td>\n",
       "      <td>NaN</td>\n",
       "    </tr>\n",
       "    <tr>\n",
       "      <th>...</th>\n",
       "      <td>...</td>\n",
       "      <td>...</td>\n",
       "    </tr>\n",
       "    <tr>\n",
       "      <th>fffc30d5a0bc46</th>\n",
       "      <td>6aed207b</td>\n",
       "      <td>NaN</td>\n",
       "    </tr>\n",
       "    <tr>\n",
       "      <th>fffc3b44869198</th>\n",
       "      <td>a6aaa8d7</td>\n",
       "      <td>NaN</td>\n",
       "    </tr>\n",
       "    <tr>\n",
       "      <th>fffc63ff750064</th>\n",
       "      <td>0a1b5b65</td>\n",
       "      <td>NaN</td>\n",
       "    </tr>\n",
       "    <tr>\n",
       "      <th>fffcd063cda949</th>\n",
       "      <td>d971e960</td>\n",
       "      <td>NaN</td>\n",
       "    </tr>\n",
       "    <tr>\n",
       "      <th>fffe1d764579d5</th>\n",
       "      <td>3c40bfa6</td>\n",
       "      <td>NaN</td>\n",
       "    </tr>\n",
       "  </tbody>\n",
       "</table>\n",
       "<p>139256 rows × 2 columns</p>\n",
       "</div>"
      ],
      "text/plain": [
       "               ancestor_id       parent_id\n",
       "id                                        \n",
       "00001756c60be8    945aea18             NaN\n",
       "00015c83e2717b    aa2da37e  317b65d12af9df\n",
       "0001bdd4021779    a7711fde             NaN\n",
       "0001daf4c2c76d    090152ca             NaN\n",
       "0002115f48f982    272b483a             NaN\n",
       "...                    ...             ...\n",
       "fffc30d5a0bc46    6aed207b             NaN\n",
       "fffc3b44869198    a6aaa8d7             NaN\n",
       "fffc63ff750064    0a1b5b65             NaN\n",
       "fffcd063cda949    d971e960             NaN\n",
       "fffe1d764579d5    3c40bfa6             NaN\n",
       "\n",
       "[139256 rows x 2 columns]"
      ]
     },
     "execution_count": 9,
     "metadata": {},
     "output_type": "execute_result"
    }
   ],
   "source": [
    "df_ancestors = pd.read_csv(data_dir / 'train_ancestors.csv', index_col='id')\n",
    "df_ancestors"
   ]
  },
  {
   "cell_type": "markdown",
   "id": "9107f9cb",
   "metadata": {
    "papermill": {
     "duration": 0.371551,
     "end_time": "2022-05-17T18:44:46.230137",
     "exception": false,
     "start_time": "2022-05-17T18:44:45.858586",
     "status": "completed"
    },
    "tags": []
   },
   "source": [
    "To prevent leakage, the test set has no notebook with an ancestor in the training set. We therefore form a validation split using `ancestor_id` as a grouping factor."
   ]
  },
  {
   "cell_type": "code",
   "execution_count": 10,
   "id": "65d6b34f",
   "metadata": {
    "collapsed": false,
    "execution": {
     "iopub.execute_input": "2022-05-17T18:44:46.995195Z",
     "iopub.status.busy": "2022-05-17T18:44:46.994840Z",
     "iopub.status.idle": "2022-05-17T18:44:48.081515Z",
     "shell.execute_reply": "2022-05-17T18:44:48.080562Z"
    },
    "jupyter": {
     "outputs_hidden": false
    },
    "papermill": {
     "duration": 1.48408,
     "end_time": "2022-05-17T18:44:48.084025",
     "exception": false,
     "start_time": "2022-05-17T18:44:46.599945",
     "status": "completed"
    },
    "tags": []
   },
   "outputs": [],
   "source": [
    "from sklearn.model_selection import GroupShuffleSplit\n",
    "\n",
    "NVALID = 0.1  # size of validation set\n",
    "\n",
    "splitter = GroupShuffleSplit(n_splits=1, test_size=NVALID, random_state=0)\n",
    "\n",
    "# Split, keeping notebooks with a common origin (ancestor_id) together\n",
    "ids = df.index.unique('id')\n",
    "ancestors = df_ancestors.loc[ids, 'ancestor_id']\n",
    "ids_train, ids_valid = next(splitter.split(ids, groups=ancestors))\n",
    "ids_train, ids_valid = ids[ids_train], ids[ids_valid]\n",
    "\n",
    "df_train = df.loc[ids_train, :]\n",
    "df_valid = df.loc[ids_valid, :]"
   ]
  },
  {
   "cell_type": "markdown",
   "id": "55f6c95f",
   "metadata": {
    "papermill": {
     "duration": 0.369634,
     "end_time": "2022-05-17T18:44:48.827348",
     "exception": false,
     "start_time": "2022-05-17T18:44:48.457714",
     "status": "completed"
    },
    "tags": []
   },
   "source": [
    "# Feature Engineering #\n",
    "\n",
    "Let's generate [tf-idf features](https://scikit-learn.org/stable/modules/generated/sklearn.feature_extraction.text.TfidfTransformer.html#sklearn.feature_extraction.text.TfidfTransformer) to use with our ranking model. These features will help our model learn what kinds of words tend to occur most often at various positions within a notebook."
   ]
  },
  {
   "cell_type": "code",
   "execution_count": 11,
   "id": "1046975e",
   "metadata": {
    "collapsed": false,
    "execution": {
     "iopub.execute_input": "2022-05-17T18:44:49.571258Z",
     "iopub.status.busy": "2022-05-17T18:44:49.570957Z",
     "iopub.status.idle": "2022-05-17T18:45:07.652273Z",
     "shell.execute_reply": "2022-05-17T18:45:07.651338Z"
    },
    "jupyter": {
     "outputs_hidden": false
    },
    "papermill": {
     "duration": 18.456544,
     "end_time": "2022-05-17T18:45:07.654790",
     "exception": false,
     "start_time": "2022-05-17T18:44:49.198246",
     "status": "completed"
    },
    "tags": []
   },
   "outputs": [],
   "source": [
    "from sklearn.feature_extraction.text import TfidfVectorizer\n",
    "\n",
    "# Training set\n",
    "tfidf = TfidfVectorizer(min_df=0.01)\n",
    "X_train = tfidf.fit_transform(df_train['source'].astype(str))\n",
    "\n",
    "# Rank of each cell within the notebook\n",
    "y_train = df_ranks.loc[ids_train].to_numpy()\n",
    "\n",
    "# Number of cells in each notebook\n",
    "groups = df_ranks.loc[ids_train].groupby('id').size().to_numpy()"
   ]
  },
  {
   "cell_type": "markdown",
   "id": "d03558f3",
   "metadata": {
    "papermill": {
     "duration": 0.371302,
     "end_time": "2022-05-17T18:45:08.400561",
     "exception": false,
     "start_time": "2022-05-17T18:45:08.029259",
     "status": "completed"
    },
    "tags": []
   },
   "source": [
    "Now let's add the code cell ordering as a feature. We'll append a column that enumerates the code cells in the correct order, like `1, 2, 3, 4, ...`, while having the dummy value `0` for all markdown cells. This feature will help the model learn to put the code cells in the correct order."
   ]
  },
  {
   "cell_type": "code",
   "execution_count": 12,
   "id": "9699b211",
   "metadata": {
    "collapsed": false,
    "execution": {
     "iopub.execute_input": "2022-05-17T18:45:09.209886Z",
     "iopub.status.busy": "2022-05-17T18:45:09.209174Z",
     "iopub.status.idle": "2022-05-17T18:45:09.501885Z",
     "shell.execute_reply": "2022-05-17T18:45:09.501020Z"
    },
    "jupyter": {
     "outputs_hidden": false
    },
    "papermill": {
     "duration": 0.727325,
     "end_time": "2022-05-17T18:45:09.505408",
     "exception": false,
     "start_time": "2022-05-17T18:45:08.778083",
     "status": "completed"
    },
    "tags": []
   },
   "outputs": [
    {
     "name": "stdout",
     "output_type": "stream",
     "text": [
      "(416586, 284)\n"
     ]
    }
   ],
   "source": [
    "# Add code cell ordering\n",
    "X_train = sparse.hstack((\n",
    "    X_train,\n",
    "    np.where(\n",
    "        df_train['cell_type'] == 'code',\n",
    "        df_train.groupby(['id', 'cell_type']).cumcount().to_numpy() + 1,\n",
    "        0,\n",
    "    ).reshape(-1, 1)\n",
    "))\n",
    "print(X_train.shape)"
   ]
  },
  {
   "cell_type": "code",
   "execution_count": 13,
   "id": "26e0a9e0",
   "metadata": {
    "execution": {
     "iopub.execute_input": "2022-05-17T18:45:10.289669Z",
     "iopub.status.busy": "2022-05-17T18:45:10.289284Z",
     "iopub.status.idle": "2022-05-17T18:45:10.308992Z",
     "shell.execute_reply": "2022-05-17T18:45:10.307882Z"
    },
    "papermill": {
     "duration": 0.433033,
     "end_time": "2022-05-17T18:45:10.311117",
     "exception": false,
     "start_time": "2022-05-17T18:45:09.878084",
     "status": "completed"
    },
    "tags": []
   },
   "outputs": [
    {
     "data": {
      "text/html": [
       "<div>\n",
       "<style scoped>\n",
       "    .dataframe tbody tr th:only-of-type {\n",
       "        vertical-align: middle;\n",
       "    }\n",
       "\n",
       "    .dataframe tbody tr th {\n",
       "        vertical-align: top;\n",
       "    }\n",
       "\n",
       "    .dataframe thead th {\n",
       "        text-align: right;\n",
       "    }\n",
       "</style>\n",
       "<table border=\"1\" class=\"dataframe\">\n",
       "  <thead>\n",
       "    <tr style=\"text-align: right;\">\n",
       "      <th></th>\n",
       "      <th></th>\n",
       "      <th>cell_type</th>\n",
       "      <th>source</th>\n",
       "    </tr>\n",
       "    <tr>\n",
       "      <th>id</th>\n",
       "      <th>cell_id</th>\n",
       "      <th></th>\n",
       "      <th></th>\n",
       "    </tr>\n",
       "  </thead>\n",
       "  <tbody>\n",
       "    <tr>\n",
       "      <th rowspan=\"5\" valign=\"top\">000c0a9b2fef4d</th>\n",
       "      <th>1087237d</th>\n",
       "      <td>code</td>\n",
       "      <td># Data manipulation\\nimport pandas as pd\\nimport numpy as np\\n\\n# Data visualization\\nimport matplotlib.pyplot as pl...</td>\n",
       "    </tr>\n",
       "    <tr>\n",
       "      <th>d7209f1f</th>\n",
       "      <td>code</td>\n",
       "      <td>fifa_raw_dataset = pd.read_csv('../input/data.csv')</td>\n",
       "    </tr>\n",
       "    <tr>\n",
       "      <th>daf5b8ee</th>\n",
       "      <td>code</td>\n",
       "      <td>fifa_raw_dataset.head()</td>\n",
       "    </tr>\n",
       "    <tr>\n",
       "      <th>e404213c</th>\n",
       "      <td>code</td>\n",
       "      <td>fifa_raw_dataset.info()</td>\n",
       "    </tr>\n",
       "    <tr>\n",
       "      <th>2bad59b0</th>\n",
       "      <td>code</td>\n",
       "      <td>fifa_raw_dataset.shape</td>\n",
       "    </tr>\n",
       "    <tr>\n",
       "      <th>...</th>\n",
       "      <th>...</th>\n",
       "      <td>...</td>\n",
       "      <td>...</td>\n",
       "    </tr>\n",
       "    <tr>\n",
       "      <th rowspan=\"5\" valign=\"top\">fffc63ff750064</th>\n",
       "      <th>56aa8da7</th>\n",
       "      <td>code</td>\n",
       "      <td>\\nsubmission.to_csv('house_price_rf.csv', index = False)</td>\n",
       "    </tr>\n",
       "    <tr>\n",
       "      <th>411b85d9</th>\n",
       "      <td>markdown</td>\n",
       "      <td>1. # Data exploration</td>\n",
       "    </tr>\n",
       "    <tr>\n",
       "      <th>e7e67119</th>\n",
       "      <td>markdown</td>\n",
       "      <td># # Data preprocessing</td>\n",
       "    </tr>\n",
       "    <tr>\n",
       "      <th>8b54cf58</th>\n",
       "      <td>markdown</td>\n",
       "      <td># Post-process for submission</td>\n",
       "    </tr>\n",
       "    <tr>\n",
       "      <th>b3c6bc16</th>\n",
       "      <td>markdown</td>\n",
       "      <td># Define and fit model</td>\n",
       "    </tr>\n",
       "  </tbody>\n",
       "</table>\n",
       "<p>416586 rows × 2 columns</p>\n",
       "</div>"
      ],
      "text/plain": [
       "                        cell_type                                                                                                                   source\n",
       "id             cell_id                                                                                                                                    \n",
       "000c0a9b2fef4d 1087237d      code  # Data manipulation\\nimport pandas as pd\\nimport numpy as np\\n\\n# Data visualization\\nimport matplotlib.pyplot as pl...\n",
       "               d7209f1f      code                                                                      fifa_raw_dataset = pd.read_csv('../input/data.csv')\n",
       "               daf5b8ee      code                                                                                                  fifa_raw_dataset.head()\n",
       "               e404213c      code                                                                                                  fifa_raw_dataset.info()\n",
       "               2bad59b0      code                                                                                                   fifa_raw_dataset.shape\n",
       "...                           ...                                                                                                                      ...\n",
       "fffc63ff750064 56aa8da7      code                                                                 \\nsubmission.to_csv('house_price_rf.csv', index = False)\n",
       "               411b85d9  markdown                                                                                                    1. # Data exploration\n",
       "               e7e67119  markdown                                                                                                   # # Data preprocessing\n",
       "               8b54cf58  markdown                                                                                            # Post-process for submission\n",
       "               b3c6bc16  markdown                                                                                                   # Define and fit model\n",
       "\n",
       "[416586 rows x 2 columns]"
      ]
     },
     "execution_count": 13,
     "metadata": {},
     "output_type": "execute_result"
    }
   ],
   "source": [
    "df_train"
   ]
  },
  {
   "cell_type": "markdown",
   "id": "1dbcdd7f",
   "metadata": {
    "papermill": {
     "duration": 0.382203,
     "end_time": "2022-05-17T18:45:11.094925",
     "exception": false,
     "start_time": "2022-05-17T18:45:10.712722",
     "status": "completed"
    },
    "tags": []
   },
   "source": [
    "# Train #"
   ]
  },
  {
   "cell_type": "markdown",
   "id": "5ab0665c",
   "metadata": {
    "papermill": {
     "duration": 0.372049,
     "end_time": "2022-05-17T18:45:11.838692",
     "exception": false,
     "start_time": "2022-05-17T18:45:11.466643",
     "status": "completed"
    },
    "tags": []
   },
   "source": [
    "We'll use the ranking algorithm provided by XGBoost."
   ]
  },
  {
   "cell_type": "code",
   "execution_count": 14,
   "id": "bb23777e",
   "metadata": {
    "collapsed": false,
    "execution": {
     "iopub.execute_input": "2022-05-17T18:45:12.584642Z",
     "iopub.status.busy": "2022-05-17T18:45:12.584339Z",
     "iopub.status.idle": "2022-05-17T18:45:25.183620Z",
     "shell.execute_reply": "2022-05-17T18:45:25.182718Z"
    },
    "jupyter": {
     "outputs_hidden": false
    },
    "papermill": {
     "duration": 12.975479,
     "end_time": "2022-05-17T18:45:25.185904",
     "exception": false,
     "start_time": "2022-05-17T18:45:12.210425",
     "status": "completed"
    },
    "tags": []
   },
   "outputs": [
    {
     "data": {
      "text/plain": [
       "XGBRanker(base_score=0.5, booster='gbtree', callbacks=None, colsample_bylevel=1,\n",
       "          colsample_bynode=1, colsample_bytree=1, early_stopping_rounds=None,\n",
       "          enable_categorical=False, eval_metric=None, gamma=0, gpu_id=-1,\n",
       "          grow_policy='depthwise', importance_type=None,\n",
       "          interaction_constraints='', learning_rate=0.300000012, max_bin=256,\n",
       "          max_cat_to_onehot=4, max_delta_step=0, max_depth=6, max_leaves=0,\n",
       "          min_child_weight=10, missing=nan, monotone_constraints='()',\n",
       "          n_estimators=100, n_jobs=0, num_parallel_tree=1, predictor='auto',\n",
       "          random_state=0, reg_alpha=0, reg_lambda=1, ...)"
      ]
     },
     "execution_count": 14,
     "metadata": {},
     "output_type": "execute_result"
    }
   ],
   "source": [
    "from xgboost import XGBRanker\n",
    "\n",
    "model = XGBRanker(\n",
    "    min_child_weight=10,\n",
    "    subsample=0.5,\n",
    "    tree_method='hist',\n",
    ")\n",
    "model.fit(X_train, y_train, group=groups)"
   ]
  },
  {
   "cell_type": "markdown",
   "id": "01791472",
   "metadata": {
    "papermill": {
     "duration": 0.372397,
     "end_time": "2022-05-17T18:45:25.928380",
     "exception": false,
     "start_time": "2022-05-17T18:45:25.555983",
     "status": "completed"
    },
    "tags": []
   },
   "source": [
    "# Evaluate #"
   ]
  },
  {
   "cell_type": "markdown",
   "id": "25b576f2",
   "metadata": {
    "papermill": {
     "duration": 0.371525,
     "end_time": "2022-05-17T18:45:26.675490",
     "exception": false,
     "start_time": "2022-05-17T18:45:26.303965",
     "status": "completed"
    },
    "tags": []
   },
   "source": [
    "Now let's see how well our model learned to order Kaggle notebook cells. We'll evaluate predictions on the validation set with a variant of the Kendall tau correlation."
   ]
  },
  {
   "cell_type": "markdown",
   "id": "7e50dcc4",
   "metadata": {
    "papermill": {
     "duration": 0.370989,
     "end_time": "2022-05-17T18:45:27.420749",
     "exception": false,
     "start_time": "2022-05-17T18:45:27.049760",
     "status": "completed"
    },
    "tags": []
   },
   "source": [
    "## Validation set ##"
   ]
  },
  {
   "cell_type": "markdown",
   "id": "69f44712",
   "metadata": {
    "papermill": {
     "duration": 0.373096,
     "end_time": "2022-05-17T18:45:28.231139",
     "exception": false,
     "start_time": "2022-05-17T18:45:27.858043",
     "status": "completed"
    },
    "tags": []
   },
   "source": [
    "First we'll create features for the validation set just like we did for the training set."
   ]
  },
  {
   "cell_type": "code",
   "execution_count": 15,
   "id": "9afdb180",
   "metadata": {
    "execution": {
     "iopub.execute_input": "2022-05-17T18:45:28.981457Z",
     "iopub.status.busy": "2022-05-17T18:45:28.981183Z",
     "iopub.status.idle": "2022-05-17T18:45:30.850386Z",
     "shell.execute_reply": "2022-05-17T18:45:30.849655Z"
    },
    "papermill": {
     "duration": 2.246947,
     "end_time": "2022-05-17T18:45:30.853682",
     "exception": false,
     "start_time": "2022-05-17T18:45:28.606735",
     "status": "completed"
    },
    "tags": []
   },
   "outputs": [],
   "source": [
    "# Validation set\n",
    "X_valid = tfidf.transform(df_valid['source'].astype(str))\n",
    "# The metric uses cell ids\n",
    "y_valid = df_orders.loc[ids_valid]\n",
    "\n",
    "X_valid = sparse.hstack((\n",
    "    X_valid,\n",
    "    np.where(\n",
    "        df_valid['cell_type'] == 'code',\n",
    "        df_valid.groupby(['id', 'cell_type']).cumcount().to_numpy() + 1,\n",
    "        0,\n",
    "    ).reshape(-1, 1)\n",
    "))"
   ]
  },
  {
   "cell_type": "markdown",
   "id": "36766743",
   "metadata": {
    "papermill": {
     "duration": 0.37276,
     "end_time": "2022-05-17T18:45:31.603178",
     "exception": false,
     "start_time": "2022-05-17T18:45:31.230418",
     "status": "completed"
    },
    "tags": []
   },
   "source": [
    "Here we'll use the model to predict the rank of each cell within its notebook and then convert these ranks into a list of ordered cell ids."
   ]
  },
  {
   "cell_type": "code",
   "execution_count": 16,
   "id": "b8996555",
   "metadata": {
    "collapsed": false,
    "execution": {
     "iopub.execute_input": "2022-05-17T18:45:32.359555Z",
     "iopub.status.busy": "2022-05-17T18:45:32.358595Z",
     "iopub.status.idle": "2022-05-17T18:45:32.551341Z",
     "shell.execute_reply": "2022-05-17T18:45:32.550249Z"
    },
    "jupyter": {
     "outputs_hidden": false
    },
    "papermill": {
     "duration": 0.573522,
     "end_time": "2022-05-17T18:45:32.553860",
     "exception": false,
     "start_time": "2022-05-17T18:45:31.980338",
     "status": "completed"
    },
    "tags": []
   },
   "outputs": [
    {
     "data": {
      "text/plain": [
       "id\n",
       "0019c0de64fe80    [76b81a6e, c06f3027, 2e8ddcdc, 0bdb7484, 4470e13e, 12d2c276, 62cd27a1, 975dc007, 6a2f9600, 342a10b0, 153d9221, 83602...\n",
       "0098e6a711804b    [0b57c7d1, bac84fb8, 7befb981, 2b1c4938, ec8c11d4, c85adef0, 1f2574e6, 92aebe06, b39006ed, 0b34ec73, 052a60f1, d6e30...\n",
       "0115938e54b661    [7bdb2279, bc18f233, 26008f09, 1393af9d, 2b20e565, 4ae6d198, e7596437, e2b23e8b, 3912c173, 38a4d1e2, 60f096be, 4247f...\n",
       "01a86eb72c41c6    [43e4bff0, bd5969e9, 6f3a8cf6, e155f365, a1a31a08, 7af1cc87, c6e3de3d, 904ebd55, c05bfc2a, 1c3732fa, 57dc6f24, e0c51...\n",
       "01b0f2f0cc925b    [e1ed7e8f, 4f96d02a, 46e763b2, ce25eefa, 6e0ade08, 8107082f, a720b51d, c4a12ce1, 55dbfb53, 26d53ebe, 786f1175, 99edb...\n",
       "021671a4f2e18c    [ebdb791f, 9572d02e, 296fb2fe, cbb7476c, a1d6a390, 298e543f, 24afcc91, c784ebec, 987aa7f0, c46226f3, 88a62103, ee761...\n",
       "0245a6f3fe3b0f    [d868648f, 1dcf6f80, 70cd8db6, b7c21c6d, 201e80f2, 5411f98a, 906911bf, 86405f4a, 5df866b3, 1c7a4a93, 63a94813, 37a54...\n",
       "02462dad8226f3    [94503eaf, 9f9e9cd2, 2737a864, 3c7d380e, 8f668846, 68bb7490, bc9ff4aa, 321b53ad, d33bb033, d8983c3a, 9572c462, 70cb0...\n",
       "027887a911092e    [e84775a2, f4f088b2, 4389b63f, 1a9b7d44, 2f87a4ad, b877bdf1, 8b1b5945, c7c5c317, d1b5be9b, f7f7779e, 93a9ff7f, 4fddc...\n",
       "02b11b6f20832b    [a97f4eb3, 37416f41, 02ba2843, 9f5cd934, 6a4d026a, 84d3366e, ae937e23, 0dd584fd, 48d93530, e6441161, 9745cd9f, 116ca...\n",
       "Name: cell_id, dtype: object"
      ]
     },
     "execution_count": 16,
     "metadata": {},
     "output_type": "execute_result"
    }
   ],
   "source": [
    "y_pred = pd.DataFrame({'rank': model.predict(X_valid)}, index=df_valid.index)\n",
    "y_pred = (\n",
    "    y_pred\n",
    "    .sort_values(['id', 'rank'])  # Sort the cells in each notebook by their rank.\n",
    "                                  # The cell_ids are now in the order the model predicted.\n",
    "    .reset_index('cell_id')  # Convert the cell_id index into a column.\n",
    "    .groupby('id')['cell_id'].apply(list)  # Group the cell_ids for each notebook into a list.\n",
    ")\n",
    "y_pred.head(10)"
   ]
  },
  {
   "cell_type": "markdown",
   "id": "fe4b6350",
   "metadata": {
    "papermill": {
     "duration": 0.377419,
     "end_time": "2022-05-17T18:45:33.314947",
     "exception": false,
     "start_time": "2022-05-17T18:45:32.937528",
     "status": "completed"
    },
    "tags": []
   },
   "source": [
    "Now let's examine a notebook to see how the model did."
   ]
  },
  {
   "cell_type": "code",
   "execution_count": 17,
   "id": "125fa49f",
   "metadata": {
    "execution": {
     "iopub.execute_input": "2022-05-17T18:45:34.075702Z",
     "iopub.status.busy": "2022-05-17T18:45:34.075229Z",
     "iopub.status.idle": "2022-05-17T18:45:34.104585Z",
     "shell.execute_reply": "2022-05-17T18:45:34.103927Z"
    },
    "papermill": {
     "duration": 0.412856,
     "end_time": "2022-05-17T18:45:34.106387",
     "exception": false,
     "start_time": "2022-05-17T18:45:33.693531",
     "status": "completed"
    },
    "tags": []
   },
   "outputs": [
    {
     "data": {
      "text/html": [
       "<div>\n",
       "<style scoped>\n",
       "    .dataframe tbody tr th:only-of-type {\n",
       "        vertical-align: middle;\n",
       "    }\n",
       "\n",
       "    .dataframe tbody tr th {\n",
       "        vertical-align: top;\n",
       "    }\n",
       "\n",
       "    .dataframe thead th {\n",
       "        text-align: right;\n",
       "    }\n",
       "</style>\n",
       "<table border=\"1\" class=\"dataframe\">\n",
       "  <thead>\n",
       "    <tr style=\"text-align: right;\">\n",
       "      <th></th>\n",
       "      <th>cell_type</th>\n",
       "      <th>source</th>\n",
       "    </tr>\n",
       "    <tr>\n",
       "      <th>cell_id</th>\n",
       "      <th></th>\n",
       "      <th></th>\n",
       "    </tr>\n",
       "  </thead>\n",
       "  <tbody>\n",
       "    <tr>\n",
       "      <th>e84775a2</th>\n",
       "      <td>code</td>\n",
       "      <td># Bread and butter of Machine learning\\nimport pandas as pd\\nimport numpy as np\\nimport matplotlib.pyplot as plt\\n\\n...</td>\n",
       "    </tr>\n",
       "    <tr>\n",
       "      <th>f4f088b2</th>\n",
       "      <td>code</td>\n",
       "      <td>train = pd.read_csv('/kaggle/input/digit-recognizer/train.csv')\\ntest = pd.read_csv('/kaggle/input/digit-recognizer/...</td>\n",
       "    </tr>\n",
       "    <tr>\n",
       "      <th>1a9b7d44</th>\n",
       "      <td>code</td>\n",
       "      <td># train.shape[0] is the number of images in the training data, and test.shape[0] holds the number of images in the t...</td>\n",
       "    </tr>\n",
       "    <tr>\n",
       "      <th>2f87a4ad</th>\n",
       "      <td>code</td>\n",
       "      <td>def to_tensor(data):\\n    return [torch.FloatTensor(point) for point in data]\\n\\nclass MNISTData(Dataset):\\n    def ...</td>\n",
       "    </tr>\n",
       "    <tr>\n",
       "      <th>8b1b5945</th>\n",
       "      <td>code</td>\n",
       "      <td># We'll split our data into 90% training and 10% test data \\nsplit = int(0.9 * len(train))\\nvalid_data = train[split...</td>\n",
       "    </tr>\n",
       "    <tr>\n",
       "      <th>d1b5be9b</th>\n",
       "      <td>code</td>\n",
       "      <td># Getting features of the image (pixel 0-783, 784 pixels in total for a 28*28 image)\\nX_col = list(train.columns[1:]...</td>\n",
       "    </tr>\n",
       "    <tr>\n",
       "      <th>c7c5c317</th>\n",
       "      <td>code</td>\n",
       "      <td>class dummyModel(nn.Module):\\n    def __init__(self):\\n        super(dummyModel, self).__init__()\\n        \\n       ...</td>\n",
       "    </tr>\n",
       "    <tr>\n",
       "      <th>93a9ff7f</th>\n",
       "      <td>code</td>\n",
       "      <td>network = dummyModel()\\nprint(network)\\nnum_epochs = 5\\nfor epoch in range(num_epochs):\\n    for train_batch in trai...</td>\n",
       "    </tr>\n",
       "    <tr>\n",
       "      <th>2fd5e864</th>\n",
       "      <td>code</td>\n",
       "      <td>class model(nn.Module):\\n    def __init__(self):\\n        super(model, self).__init__()\\n        self.conv1 = nn.Seq...</td>\n",
       "    </tr>\n",
       "    <tr>\n",
       "      <th>67a541a1</th>\n",
       "      <td>code</td>\n",
       "      <td># Before we start training our neural network, we'll define our accuracy function\\ndef acc(y_true, y_pred):\\n    y_t...</td>\n",
       "    </tr>\n",
       "    <tr>\n",
       "      <th>83c4fae9</th>\n",
       "      <td>code</td>\n",
       "      <td>network = model()\\n# Loss and optimizer\\ncriterion = nn.CrossEntropyLoss()\\noptimizer = torch.optim.Adam(network.par...</td>\n",
       "    </tr>\n",
       "    <tr>\n",
       "      <th>45c85876</th>\n",
       "      <td>code</td>\n",
       "      <td># Gotta prepare the test set first\\ntest[y_col] = [-1]*len(test)\\n\\ntest_set = MNISTData(test, X_col, y_col)\\ntest_l...</td>\n",
       "    </tr>\n",
       "    <tr>\n",
       "      <th>685d0859</th>\n",
       "      <td>code</td>\n",
       "      <td>test_X, _ = next(iter(test_loader))\\ntest_X = test_X[:36]\\nfig, ax = plt.subplots(nrows=6, ncols=6, figsize=(15, 15)...</td>\n",
       "    </tr>\n",
       "    <tr>\n",
       "      <th>b886158b</th>\n",
       "      <td>code</td>\n",
       "      <td>submissions = pd.read_csv('../input/digit-recognizer/sample_submission.csv')\\nlabels = [x.item() for x in test_pred]...</td>\n",
       "    </tr>\n",
       "    <tr>\n",
       "      <th>6204b7f6</th>\n",
       "      <td>code</td>\n",
       "      <td>submissions.to_csv(\"submission.csv\", index=False)</td>\n",
       "    </tr>\n",
       "    <tr>\n",
       "      <th>2c0fb149</th>\n",
       "      <td>markdown</td>\n",
       "      <td>&gt; Well, that's pretty accurate!\\nLet's submit our predictions\\n</td>\n",
       "    </tr>\n",
       "    <tr>\n",
       "      <th>d628dab8</th>\n",
       "      <td>markdown</td>\n",
       "      <td># Training our Neural Network</td>\n",
       "    </tr>\n",
       "    <tr>\n",
       "      <th>4fddc47f</th>\n",
       "      <td>markdown</td>\n",
       "      <td>&gt; Oh Man, If you get these numbers for any dataset other than this, it's a major **RED** Flag!</td>\n",
       "    </tr>\n",
       "    <tr>\n",
       "      <th>3409c80e</th>\n",
       "      <td>markdown</td>\n",
       "      <td>Our Tensor is in the shape  $(N, C, H, W)$,  where\\n  * $N$ = batch size\\n  * $C$ = Number of channels\\n  * $H$ = He...</td>\n",
       "    </tr>\n",
       "    <tr>\n",
       "      <th>b877bdf1</th>\n",
       "      <td>markdown</td>\n",
       "      <td># Converting the data in csv files to images\\n&gt; Let's convert our data from pixel values in csv to actual images\\n\\n...</td>\n",
       "    </tr>\n",
       "    <tr>\n",
       "      <th>6cb797dc</th>\n",
       "      <td>markdown</td>\n",
       "      <td>&gt; This was my first notebbok using Pytorch. Leave a upvote if you found it helpful!\\n\\nNote: You can always bump up ...</td>\n",
       "    </tr>\n",
       "    <tr>\n",
       "      <th>8db4e028</th>\n",
       "      <td>markdown</td>\n",
       "      <td>&gt; Let's see our predictions\\n</td>\n",
       "    </tr>\n",
       "    <tr>\n",
       "      <th>85826b0f</th>\n",
       "      <td>markdown</td>\n",
       "      <td># Making a Dummy Neural Network\\n&gt; So we're gonna define a model with 2 convolutional layers and 2 Fully Connected l...</td>\n",
       "    </tr>\n",
       "    <tr>\n",
       "      <th>5ab2119c</th>\n",
       "      <td>markdown</td>\n",
       "      <td># Let's make Predictions</td>\n",
       "    </tr>\n",
       "    <tr>\n",
       "      <th>f7f7779e</th>\n",
       "      <td>markdown</td>\n",
       "      <td># Meeting the data</td>\n",
       "    </tr>\n",
       "    <tr>\n",
       "      <th>9e56a707</th>\n",
       "      <td>markdown</td>\n",
       "      <td>&gt; All the above data looks like garbage to us. We'll need to convert them to images.</td>\n",
       "    </tr>\n",
       "    <tr>\n",
       "      <th>4389b63f</th>\n",
       "      <td>markdown</td>\n",
       "      <td># Mnist Handwritten Digit dataset with Pytorch (CNN)\\n&gt; Hi Everyone, in this notebook we're going to train a neural ...</td>\n",
       "    </tr>\n",
       "    <tr>\n",
       "      <th>f0a02a1b</th>\n",
       "      <td>markdown</td>\n",
       "      <td># Training our (Dummy) Convolutional Neural Network</td>\n",
       "    </tr>\n",
       "    <tr>\n",
       "      <th>70226413</th>\n",
       "      <td>markdown</td>\n",
       "      <td># Creating our Model for training\\n&gt; Playtime is over, let's get down to business</td>\n",
       "    </tr>\n",
       "  </tbody>\n",
       "</table>\n",
       "</div>"
      ],
      "text/plain": [
       "         cell_type                                                                                                                   source\n",
       "cell_id                                                                                                                                    \n",
       "e84775a2      code  # Bread and butter of Machine learning\\nimport pandas as pd\\nimport numpy as np\\nimport matplotlib.pyplot as plt\\n\\n...\n",
       "f4f088b2      code  train = pd.read_csv('/kaggle/input/digit-recognizer/train.csv')\\ntest = pd.read_csv('/kaggle/input/digit-recognizer/...\n",
       "1a9b7d44      code  # train.shape[0] is the number of images in the training data, and test.shape[0] holds the number of images in the t...\n",
       "2f87a4ad      code  def to_tensor(data):\\n    return [torch.FloatTensor(point) for point in data]\\n\\nclass MNISTData(Dataset):\\n    def ...\n",
       "8b1b5945      code  # We'll split our data into 90% training and 10% test data \\nsplit = int(0.9 * len(train))\\nvalid_data = train[split...\n",
       "d1b5be9b      code  # Getting features of the image (pixel 0-783, 784 pixels in total for a 28*28 image)\\nX_col = list(train.columns[1:]...\n",
       "c7c5c317      code  class dummyModel(nn.Module):\\n    def __init__(self):\\n        super(dummyModel, self).__init__()\\n        \\n       ...\n",
       "93a9ff7f      code  network = dummyModel()\\nprint(network)\\nnum_epochs = 5\\nfor epoch in range(num_epochs):\\n    for train_batch in trai...\n",
       "2fd5e864      code  class model(nn.Module):\\n    def __init__(self):\\n        super(model, self).__init__()\\n        self.conv1 = nn.Seq...\n",
       "67a541a1      code  # Before we start training our neural network, we'll define our accuracy function\\ndef acc(y_true, y_pred):\\n    y_t...\n",
       "83c4fae9      code  network = model()\\n# Loss and optimizer\\ncriterion = nn.CrossEntropyLoss()\\noptimizer = torch.optim.Adam(network.par...\n",
       "45c85876      code  # Gotta prepare the test set first\\ntest[y_col] = [-1]*len(test)\\n\\ntest_set = MNISTData(test, X_col, y_col)\\ntest_l...\n",
       "685d0859      code  test_X, _ = next(iter(test_loader))\\ntest_X = test_X[:36]\\nfig, ax = plt.subplots(nrows=6, ncols=6, figsize=(15, 15)...\n",
       "b886158b      code  submissions = pd.read_csv('../input/digit-recognizer/sample_submission.csv')\\nlabels = [x.item() for x in test_pred]...\n",
       "6204b7f6      code                                                                        submissions.to_csv(\"submission.csv\", index=False)\n",
       "2c0fb149  markdown                                                          > Well, that's pretty accurate!\\nLet's submit our predictions\\n\n",
       "d628dab8  markdown                                                                                            # Training our Neural Network\n",
       "4fddc47f  markdown                           > Oh Man, If you get these numbers for any dataset other than this, it's a major **RED** Flag!\n",
       "3409c80e  markdown  Our Tensor is in the shape  $(N, C, H, W)$,  where\\n  * $N$ = batch size\\n  * $C$ = Number of channels\\n  * $H$ = He...\n",
       "b877bdf1  markdown  # Converting the data in csv files to images\\n> Let's convert our data from pixel values in csv to actual images\\n\\n...\n",
       "6cb797dc  markdown  > This was my first notebbok using Pytorch. Leave a upvote if you found it helpful!\\n\\nNote: You can always bump up ...\n",
       "8db4e028  markdown                                                                                            > Let's see our predictions\\n\n",
       "85826b0f  markdown  # Making a Dummy Neural Network\\n> So we're gonna define a model with 2 convolutional layers and 2 Fully Connected l...\n",
       "5ab2119c  markdown                                                                                                 # Let's make Predictions\n",
       "f7f7779e  markdown                                                                                                       # Meeting the data\n",
       "9e56a707  markdown                                     > All the above data looks like garbage to us. We'll need to convert them to images.\n",
       "4389b63f  markdown  # Mnist Handwritten Digit dataset with Pytorch (CNN)\\n> Hi Everyone, in this notebook we're going to train a neural ...\n",
       "f0a02a1b  markdown                                                                      # Training our (Dummy) Convolutional Neural Network\n",
       "70226413  markdown                                        # Creating our Model for training\\n> Playtime is over, let's get down to business"
      ]
     },
     "metadata": {},
     "output_type": "display_data"
    },
    {
     "data": {
      "text/html": [
       "<div>\n",
       "<style scoped>\n",
       "    .dataframe tbody tr th:only-of-type {\n",
       "        vertical-align: middle;\n",
       "    }\n",
       "\n",
       "    .dataframe tbody tr th {\n",
       "        vertical-align: top;\n",
       "    }\n",
       "\n",
       "    .dataframe thead th {\n",
       "        text-align: right;\n",
       "    }\n",
       "</style>\n",
       "<table border=\"1\" class=\"dataframe\">\n",
       "  <thead>\n",
       "    <tr style=\"text-align: right;\">\n",
       "      <th></th>\n",
       "      <th>cell_type</th>\n",
       "      <th>source</th>\n",
       "    </tr>\n",
       "    <tr>\n",
       "      <th>cell_id</th>\n",
       "      <th></th>\n",
       "      <th></th>\n",
       "    </tr>\n",
       "  </thead>\n",
       "  <tbody>\n",
       "    <tr>\n",
       "      <th>e84775a2</th>\n",
       "      <td>code</td>\n",
       "      <td># Bread and butter of Machine learning\\nimport pandas as pd\\nimport numpy as np\\nimport matplotlib.pyplot as plt\\n\\n...</td>\n",
       "    </tr>\n",
       "    <tr>\n",
       "      <th>f4f088b2</th>\n",
       "      <td>code</td>\n",
       "      <td>train = pd.read_csv('/kaggle/input/digit-recognizer/train.csv')\\ntest = pd.read_csv('/kaggle/input/digit-recognizer/...</td>\n",
       "    </tr>\n",
       "    <tr>\n",
       "      <th>4389b63f</th>\n",
       "      <td>markdown</td>\n",
       "      <td># Mnist Handwritten Digit dataset with Pytorch (CNN)\\n&gt; Hi Everyone, in this notebook we're going to train a neural ...</td>\n",
       "    </tr>\n",
       "    <tr>\n",
       "      <th>1a9b7d44</th>\n",
       "      <td>code</td>\n",
       "      <td># train.shape[0] is the number of images in the training data, and test.shape[0] holds the number of images in the t...</td>\n",
       "    </tr>\n",
       "    <tr>\n",
       "      <th>2f87a4ad</th>\n",
       "      <td>code</td>\n",
       "      <td>def to_tensor(data):\\n    return [torch.FloatTensor(point) for point in data]\\n\\nclass MNISTData(Dataset):\\n    def ...</td>\n",
       "    </tr>\n",
       "    <tr>\n",
       "      <th>b877bdf1</th>\n",
       "      <td>markdown</td>\n",
       "      <td># Converting the data in csv files to images\\n&gt; Let's convert our data from pixel values in csv to actual images\\n\\n...</td>\n",
       "    </tr>\n",
       "    <tr>\n",
       "      <th>8b1b5945</th>\n",
       "      <td>code</td>\n",
       "      <td># We'll split our data into 90% training and 10% test data \\nsplit = int(0.9 * len(train))\\nvalid_data = train[split...</td>\n",
       "    </tr>\n",
       "    <tr>\n",
       "      <th>c7c5c317</th>\n",
       "      <td>code</td>\n",
       "      <td>class dummyModel(nn.Module):\\n    def __init__(self):\\n        super(dummyModel, self).__init__()\\n        \\n       ...</td>\n",
       "    </tr>\n",
       "    <tr>\n",
       "      <th>d1b5be9b</th>\n",
       "      <td>code</td>\n",
       "      <td># Getting features of the image (pixel 0-783, 784 pixels in total for a 28*28 image)\\nX_col = list(train.columns[1:]...</td>\n",
       "    </tr>\n",
       "    <tr>\n",
       "      <th>f7f7779e</th>\n",
       "      <td>markdown</td>\n",
       "      <td># Meeting the data</td>\n",
       "    </tr>\n",
       "    <tr>\n",
       "      <th>93a9ff7f</th>\n",
       "      <td>code</td>\n",
       "      <td>network = dummyModel()\\nprint(network)\\nnum_epochs = 5\\nfor epoch in range(num_epochs):\\n    for train_batch in trai...</td>\n",
       "    </tr>\n",
       "    <tr>\n",
       "      <th>4fddc47f</th>\n",
       "      <td>markdown</td>\n",
       "      <td>&gt; Oh Man, If you get these numbers for any dataset other than this, it's a major **RED** Flag!</td>\n",
       "    </tr>\n",
       "    <tr>\n",
       "      <th>67a541a1</th>\n",
       "      <td>code</td>\n",
       "      <td># Before we start training our neural network, we'll define our accuracy function\\ndef acc(y_true, y_pred):\\n    y_t...</td>\n",
       "    </tr>\n",
       "    <tr>\n",
       "      <th>9e56a707</th>\n",
       "      <td>markdown</td>\n",
       "      <td>&gt; All the above data looks like garbage to us. We'll need to convert them to images.</td>\n",
       "    </tr>\n",
       "    <tr>\n",
       "      <th>3409c80e</th>\n",
       "      <td>markdown</td>\n",
       "      <td>Our Tensor is in the shape  $(N, C, H, W)$,  where\\n  * $N$ = batch size\\n  * $C$ = Number of channels\\n  * $H$ = He...</td>\n",
       "    </tr>\n",
       "    <tr>\n",
       "      <th>685d0859</th>\n",
       "      <td>code</td>\n",
       "      <td>test_X, _ = next(iter(test_loader))\\ntest_X = test_X[:36]\\nfig, ax = plt.subplots(nrows=6, ncols=6, figsize=(15, 15)...</td>\n",
       "    </tr>\n",
       "    <tr>\n",
       "      <th>2fd5e864</th>\n",
       "      <td>code</td>\n",
       "      <td>class model(nn.Module):\\n    def __init__(self):\\n        super(model, self).__init__()\\n        self.conv1 = nn.Seq...</td>\n",
       "    </tr>\n",
       "    <tr>\n",
       "      <th>45c85876</th>\n",
       "      <td>code</td>\n",
       "      <td># Gotta prepare the test set first\\ntest[y_col] = [-1]*len(test)\\n\\ntest_set = MNISTData(test, X_col, y_col)\\ntest_l...</td>\n",
       "    </tr>\n",
       "    <tr>\n",
       "      <th>b886158b</th>\n",
       "      <td>code</td>\n",
       "      <td>submissions = pd.read_csv('../input/digit-recognizer/sample_submission.csv')\\nlabels = [x.item() for x in test_pred]...</td>\n",
       "    </tr>\n",
       "    <tr>\n",
       "      <th>d628dab8</th>\n",
       "      <td>markdown</td>\n",
       "      <td># Training our Neural Network</td>\n",
       "    </tr>\n",
       "    <tr>\n",
       "      <th>f0a02a1b</th>\n",
       "      <td>markdown</td>\n",
       "      <td># Training our (Dummy) Convolutional Neural Network</td>\n",
       "    </tr>\n",
       "    <tr>\n",
       "      <th>83c4fae9</th>\n",
       "      <td>code</td>\n",
       "      <td>network = model()\\n# Loss and optimizer\\ncriterion = nn.CrossEntropyLoss()\\noptimizer = torch.optim.Adam(network.par...</td>\n",
       "    </tr>\n",
       "    <tr>\n",
       "      <th>85826b0f</th>\n",
       "      <td>markdown</td>\n",
       "      <td># Making a Dummy Neural Network\\n&gt; So we're gonna define a model with 2 convolutional layers and 2 Fully Connected l...</td>\n",
       "    </tr>\n",
       "    <tr>\n",
       "      <th>70226413</th>\n",
       "      <td>markdown</td>\n",
       "      <td># Creating our Model for training\\n&gt; Playtime is over, let's get down to business</td>\n",
       "    </tr>\n",
       "    <tr>\n",
       "      <th>6cb797dc</th>\n",
       "      <td>markdown</td>\n",
       "      <td>&gt; This was my first notebbok using Pytorch. Leave a upvote if you found it helpful!\\n\\nNote: You can always bump up ...</td>\n",
       "    </tr>\n",
       "    <tr>\n",
       "      <th>5ab2119c</th>\n",
       "      <td>markdown</td>\n",
       "      <td># Let's make Predictions</td>\n",
       "    </tr>\n",
       "    <tr>\n",
       "      <th>8db4e028</th>\n",
       "      <td>markdown</td>\n",
       "      <td>&gt; Let's see our predictions\\n</td>\n",
       "    </tr>\n",
       "    <tr>\n",
       "      <th>2c0fb149</th>\n",
       "      <td>markdown</td>\n",
       "      <td>&gt; Well, that's pretty accurate!\\nLet's submit our predictions\\n</td>\n",
       "    </tr>\n",
       "    <tr>\n",
       "      <th>6204b7f6</th>\n",
       "      <td>code</td>\n",
       "      <td>submissions.to_csv(\"submission.csv\", index=False)</td>\n",
       "    </tr>\n",
       "  </tbody>\n",
       "</table>\n",
       "</div>"
      ],
      "text/plain": [
       "         cell_type                                                                                                                   source\n",
       "cell_id                                                                                                                                    \n",
       "e84775a2      code  # Bread and butter of Machine learning\\nimport pandas as pd\\nimport numpy as np\\nimport matplotlib.pyplot as plt\\n\\n...\n",
       "f4f088b2      code  train = pd.read_csv('/kaggle/input/digit-recognizer/train.csv')\\ntest = pd.read_csv('/kaggle/input/digit-recognizer/...\n",
       "4389b63f  markdown  # Mnist Handwritten Digit dataset with Pytorch (CNN)\\n> Hi Everyone, in this notebook we're going to train a neural ...\n",
       "1a9b7d44      code  # train.shape[0] is the number of images in the training data, and test.shape[0] holds the number of images in the t...\n",
       "2f87a4ad      code  def to_tensor(data):\\n    return [torch.FloatTensor(point) for point in data]\\n\\nclass MNISTData(Dataset):\\n    def ...\n",
       "b877bdf1  markdown  # Converting the data in csv files to images\\n> Let's convert our data from pixel values in csv to actual images\\n\\n...\n",
       "8b1b5945      code  # We'll split our data into 90% training and 10% test data \\nsplit = int(0.9 * len(train))\\nvalid_data = train[split...\n",
       "c7c5c317      code  class dummyModel(nn.Module):\\n    def __init__(self):\\n        super(dummyModel, self).__init__()\\n        \\n       ...\n",
       "d1b5be9b      code  # Getting features of the image (pixel 0-783, 784 pixels in total for a 28*28 image)\\nX_col = list(train.columns[1:]...\n",
       "f7f7779e  markdown                                                                                                       # Meeting the data\n",
       "93a9ff7f      code  network = dummyModel()\\nprint(network)\\nnum_epochs = 5\\nfor epoch in range(num_epochs):\\n    for train_batch in trai...\n",
       "4fddc47f  markdown                           > Oh Man, If you get these numbers for any dataset other than this, it's a major **RED** Flag!\n",
       "67a541a1      code  # Before we start training our neural network, we'll define our accuracy function\\ndef acc(y_true, y_pred):\\n    y_t...\n",
       "9e56a707  markdown                                     > All the above data looks like garbage to us. We'll need to convert them to images.\n",
       "3409c80e  markdown  Our Tensor is in the shape  $(N, C, H, W)$,  where\\n  * $N$ = batch size\\n  * $C$ = Number of channels\\n  * $H$ = He...\n",
       "685d0859      code  test_X, _ = next(iter(test_loader))\\ntest_X = test_X[:36]\\nfig, ax = plt.subplots(nrows=6, ncols=6, figsize=(15, 15)...\n",
       "2fd5e864      code  class model(nn.Module):\\n    def __init__(self):\\n        super(model, self).__init__()\\n        self.conv1 = nn.Seq...\n",
       "45c85876      code  # Gotta prepare the test set first\\ntest[y_col] = [-1]*len(test)\\n\\ntest_set = MNISTData(test, X_col, y_col)\\ntest_l...\n",
       "b886158b      code  submissions = pd.read_csv('../input/digit-recognizer/sample_submission.csv')\\nlabels = [x.item() for x in test_pred]...\n",
       "d628dab8  markdown                                                                                            # Training our Neural Network\n",
       "f0a02a1b  markdown                                                                      # Training our (Dummy) Convolutional Neural Network\n",
       "83c4fae9      code  network = model()\\n# Loss and optimizer\\ncriterion = nn.CrossEntropyLoss()\\noptimizer = torch.optim.Adam(network.par...\n",
       "85826b0f  markdown  # Making a Dummy Neural Network\\n> So we're gonna define a model with 2 convolutional layers and 2 Fully Connected l...\n",
       "70226413  markdown                                        # Creating our Model for training\\n> Playtime is over, let's get down to business\n",
       "6cb797dc  markdown  > This was my first notebbok using Pytorch. Leave a upvote if you found it helpful!\\n\\nNote: You can always bump up ...\n",
       "5ab2119c  markdown                                                                                                 # Let's make Predictions\n",
       "8db4e028  markdown                                                                                            > Let's see our predictions\\n\n",
       "2c0fb149  markdown                                                          > Well, that's pretty accurate!\\nLet's submit our predictions\\n\n",
       "6204b7f6      code                                                                        submissions.to_csv(\"submission.csv\", index=False)"
      ]
     },
     "metadata": {},
     "output_type": "display_data"
    }
   ],
   "source": [
    "nb_id = df_valid.index.get_level_values('id').unique()[8]\n",
    "\n",
    "display(df.loc[nb_id])\n",
    "display(df.loc[nb_id].loc[y_pred.loc[nb_id]])"
   ]
  },
  {
   "cell_type": "markdown",
   "id": "85b6601d",
   "metadata": {
    "papermill": {
     "duration": 0.378252,
     "end_time": "2022-05-17T18:45:34.860538",
     "exception": false,
     "start_time": "2022-05-17T18:45:34.482286",
     "status": "completed"
    },
    "tags": []
   },
   "source": [
    "## Metric ##\n",
    "\n",
    "This competition uses a variant of the [Kendall tau correlation](https://www.kaggle.com/competitions/AI4Code/overview/evaluation), which will measure how close to the correct order our predicted orderings are. See this notebook for more on this metric: [Competition Metric - Kendall Tau Correlation](https://www.kaggle.com/code/ryanholbrook/competition-metric-kendall-tau-correlation/notebook)."
   ]
  },
  {
   "cell_type": "code",
   "execution_count": 18,
   "id": "15e696c9",
   "metadata": {
    "collapsed": false,
    "execution": {
     "iopub.execute_input": "2022-05-17T18:45:35.619184Z",
     "iopub.status.busy": "2022-05-17T18:45:35.618642Z",
     "iopub.status.idle": "2022-05-17T18:45:35.626199Z",
     "shell.execute_reply": "2022-05-17T18:45:35.625454Z"
    },
    "jupyter": {
     "outputs_hidden": false
    },
    "papermill": {
     "duration": 0.389053,
     "end_time": "2022-05-17T18:45:35.628516",
     "exception": false,
     "start_time": "2022-05-17T18:45:35.239463",
     "status": "completed"
    },
    "tags": []
   },
   "outputs": [],
   "source": [
    "from bisect import bisect\n",
    "\n",
    "\n",
    "def count_inversions(a):\n",
    "    inversions = 0\n",
    "    sorted_so_far = []\n",
    "    for i, u in enumerate(a):\n",
    "        j = bisect(sorted_so_far, u)\n",
    "        inversions += i - j\n",
    "        sorted_so_far.insert(j, u)\n",
    "    return inversions\n",
    "\n",
    "\n",
    "def kendall_tau(ground_truth, predictions):\n",
    "    total_inversions = 0\n",
    "    total_2max = 0  # twice the maximum possible inversions across all instances\n",
    "    for gt, pred in zip(ground_truth, predictions):\n",
    "        ranks = [gt.index(x) for x in pred]  # rank predicted order in terms of ground truth\n",
    "        total_inversions += count_inversions(ranks)\n",
    "        n = len(gt)\n",
    "        total_2max += n * (n - 1)\n",
    "    return 1 - 4 * total_inversions / total_2max"
   ]
  },
  {
   "cell_type": "markdown",
   "id": "a34501f1",
   "metadata": {
    "papermill": {
     "duration": 0.381348,
     "end_time": "2022-05-17T18:45:36.395315",
     "exception": false,
     "start_time": "2022-05-17T18:45:36.013967",
     "status": "completed"
    },
    "tags": []
   },
   "source": [
    "Let's test the metric with a dummy submission created from the ids of the shuffled notebooks."
   ]
  },
  {
   "cell_type": "code",
   "execution_count": 19,
   "id": "54f85dcd",
   "metadata": {
    "execution": {
     "iopub.execute_input": "2022-05-17T18:45:37.157367Z",
     "iopub.status.busy": "2022-05-17T18:45:37.156918Z",
     "iopub.status.idle": "2022-05-17T18:45:37.302286Z",
     "shell.execute_reply": "2022-05-17T18:45:37.301607Z"
    },
    "papermill": {
     "duration": 0.528176,
     "end_time": "2022-05-17T18:45:37.304235",
     "exception": false,
     "start_time": "2022-05-17T18:45:36.776059",
     "status": "completed"
    },
    "tags": []
   },
   "outputs": [
    {
     "data": {
      "text/plain": [
       "0.42511216883092573"
      ]
     },
     "execution_count": 19,
     "metadata": {},
     "output_type": "execute_result"
    }
   ],
   "source": [
    "y_dummy = df_valid.reset_index('cell_id').groupby('id')['cell_id'].apply(list)\n",
    "kendall_tau(y_valid, y_dummy)"
   ]
  },
  {
   "cell_type": "markdown",
   "id": "62d27c68",
   "metadata": {
    "papermill": {
     "duration": 0.378196,
     "end_time": "2022-05-17T18:45:38.058974",
     "exception": false,
     "start_time": "2022-05-17T18:45:37.680778",
     "status": "completed"
    },
    "tags": []
   },
   "source": [
    "Comparing this to the score on the predictions, we can see that our model was indeed able to improve the cell ordering somewhat."
   ]
  },
  {
   "cell_type": "code",
   "execution_count": 20,
   "id": "7e5c9d2f",
   "metadata": {
    "execution": {
     "iopub.execute_input": "2022-05-17T18:45:38.814055Z",
     "iopub.status.busy": "2022-05-17T18:45:38.813619Z",
     "iopub.status.idle": "2022-05-17T18:45:38.909831Z",
     "shell.execute_reply": "2022-05-17T18:45:38.908760Z"
    },
    "papermill": {
     "duration": 0.477845,
     "end_time": "2022-05-17T18:45:38.912337",
     "exception": false,
     "start_time": "2022-05-17T18:45:38.434492",
     "status": "completed"
    },
    "tags": []
   },
   "outputs": [
    {
     "data": {
      "text/plain": [
       "0.6158894721044015"
      ]
     },
     "execution_count": 20,
     "metadata": {},
     "output_type": "execute_result"
    }
   ],
   "source": [
    "kendall_tau(y_valid, y_pred)"
   ]
  },
  {
   "cell_type": "markdown",
   "id": "9955848b",
   "metadata": {
    "papermill": {
     "duration": 0.386397,
     "end_time": "2022-05-17T18:45:39.677054",
     "exception": false,
     "start_time": "2022-05-17T18:45:39.290657",
     "status": "completed"
    },
    "tags": []
   },
   "source": [
    "# Submission #"
   ]
  },
  {
   "cell_type": "markdown",
   "id": "ac7fbabd",
   "metadata": {
    "papermill": {
     "duration": 0.375079,
     "end_time": "2022-05-17T18:45:40.434182",
     "exception": false,
     "start_time": "2022-05-17T18:45:40.059103",
     "status": "completed"
    },
    "tags": []
   },
   "source": [
    "To create a submission for this competition, we'll apply our model to the notebooks in the test set. Note that this is a **Code Competition**, which means that the test data we see here is only a small sample. When we submit our notebook for scoring, this example data will be replaced with the full test set of about 20,000 notebooks."
   ]
  },
  {
   "cell_type": "markdown",
   "id": "175777c5",
   "metadata": {
    "papermill": {
     "duration": 0.381937,
     "end_time": "2022-05-17T18:45:41.192426",
     "exception": false,
     "start_time": "2022-05-17T18:45:40.810489",
     "status": "completed"
    },
    "tags": []
   },
   "source": [
    "First we load the data."
   ]
  },
  {
   "cell_type": "code",
   "execution_count": 21,
   "id": "303a2b9f",
   "metadata": {
    "execution": {
     "iopub.execute_input": "2022-05-17T18:45:41.978472Z",
     "iopub.status.busy": "2022-05-17T18:45:41.977468Z",
     "iopub.status.idle": "2022-05-17T18:45:42.033616Z",
     "shell.execute_reply": "2022-05-17T18:45:42.032869Z"
    },
    "papermill": {
     "duration": 0.465267,
     "end_time": "2022-05-17T18:45:42.035803",
     "exception": false,
     "start_time": "2022-05-17T18:45:41.570536",
     "status": "completed"
    },
    "tags": []
   },
   "outputs": [
    {
     "name": "stderr",
     "output_type": "stream",
     "text": [
      "Test NBs: 100%|██████████| 4/4 [00:00<00:00, 107.63it/s]\n"
     ]
    }
   ],
   "source": [
    "paths_test = list((data_dir / 'test').glob('*.json'))\n",
    "notebooks_test = [\n",
    "    read_notebook(path) for path in tqdm(paths_test, desc='Test NBs')\n",
    "]\n",
    "df_test = (\n",
    "    pd.concat(notebooks_test)\n",
    "    .set_index('id', append=True)\n",
    "    .swaplevel()\n",
    "    .sort_index(level='id', sort_remaining=False)\n",
    ")"
   ]
  },
  {
   "cell_type": "markdown",
   "id": "15c96196",
   "metadata": {
    "papermill": {
     "duration": 0.37584,
     "end_time": "2022-05-17T18:45:42.790270",
     "exception": false,
     "start_time": "2022-05-17T18:45:42.414430",
     "status": "completed"
    },
    "tags": []
   },
   "source": [
    "Then create the tf-idf and code cell features."
   ]
  },
  {
   "cell_type": "code",
   "execution_count": 22,
   "id": "5a74a41c",
   "metadata": {
    "collapsed": false,
    "execution": {
     "iopub.execute_input": "2022-05-17T18:45:43.614543Z",
     "iopub.status.busy": "2022-05-17T18:45:43.613824Z",
     "iopub.status.idle": "2022-05-17T18:45:43.634421Z",
     "shell.execute_reply": "2022-05-17T18:45:43.633750Z"
    },
    "jupyter": {
     "outputs_hidden": false
    },
    "papermill": {
     "duration": 0.419305,
     "end_time": "2022-05-17T18:45:43.636890",
     "exception": false,
     "start_time": "2022-05-17T18:45:43.217585",
     "status": "completed"
    },
    "tags": []
   },
   "outputs": [],
   "source": [
    "X_test = tfidf.transform(df_test['source'].astype(str))\n",
    "X_test = sparse.hstack((\n",
    "    X_test,\n",
    "    np.where(\n",
    "        df_test['cell_type'] == 'code',\n",
    "        df_test.groupby(['id', 'cell_type']).cumcount().to_numpy() + 1,\n",
    "        0,\n",
    "    ).reshape(-1, 1)\n",
    "))"
   ]
  },
  {
   "cell_type": "markdown",
   "id": "7e9d06b3",
   "metadata": {
    "papermill": {
     "duration": 0.375486,
     "end_time": "2022-05-17T18:45:44.404615",
     "exception": false,
     "start_time": "2022-05-17T18:45:44.029129",
     "status": "completed"
    },
    "tags": []
   },
   "source": [
    "And then create predictions on the test set."
   ]
  },
  {
   "cell_type": "code",
   "execution_count": 23,
   "id": "39f54b4d",
   "metadata": {
    "collapsed": false,
    "execution": {
     "iopub.execute_input": "2022-05-17T18:45:45.164586Z",
     "iopub.status.busy": "2022-05-17T18:45:45.164298Z",
     "iopub.status.idle": "2022-05-17T18:45:45.192647Z",
     "shell.execute_reply": "2022-05-17T18:45:45.187998Z"
    },
    "jupyter": {
     "outputs_hidden": false
    },
    "papermill": {
     "duration": 0.411921,
     "end_time": "2022-05-17T18:45:45.195127",
     "exception": false,
     "start_time": "2022-05-17T18:45:44.783206",
     "status": "completed"
    },
    "tags": []
   },
   "outputs": [
    {
     "data": {
      "text/plain": [
       "id\n",
       "0009d135ece78d    [ddfd239c, c6cd22db, 1372ae9b, 7f388a41, 90ed07ab, 2843a25a, f9893819, 8cb8d28a, 06dbf8cf, 0a226b6a, e25aa9bd, ba55e...\n",
       "0010483c12ba9b                       [54c7cab3, fe66203e, 7844d5f8, 7f270e34, 5ce8863c, 4a32c095, 4a0777c4, 02a0be6d, 865ad516, 4703bb6d]\n",
       "0010a919d60e4f    [aafc3d23, b7578789, 80e077ec, b190ebb4, ed415c3c, 322850af, 868c4eae, c069ed33, bac960d3, 8ce62db4, 80433cf3, bd8fb...\n",
       "0028856e09c5b7                                                                                   [012c9d02, d22526d1, 3ae7ece3, eb293dfc]\n",
       "Name: cell_id, dtype: object"
      ]
     },
     "execution_count": 23,
     "metadata": {},
     "output_type": "execute_result"
    }
   ],
   "source": [
    "y_infer = pd.DataFrame({'rank': model.predict(X_test)}, index=df_test.index)\n",
    "y_infer = y_infer.sort_values(['id', 'rank']).reset_index('cell_id').groupby('id')['cell_id'].apply(list)\n",
    "y_infer"
   ]
  },
  {
   "cell_type": "markdown",
   "id": "38649ce3",
   "metadata": {
    "papermill": {
     "duration": 0.379794,
     "end_time": "2022-05-17T18:45:45.952609",
     "exception": false,
     "start_time": "2022-05-17T18:45:45.572815",
     "status": "completed"
    },
    "tags": []
   },
   "source": [
    "The `sample_submission.csv` file shows what a correctly formatted submission must look like. We'll just use it as a visual check, but you might like to directly modify the values of sample submission instead. (This would help prevent failed submissions due to missing notebook ids or incorrectly named columns, for instance.)"
   ]
  },
  {
   "cell_type": "code",
   "execution_count": 24,
   "id": "c1737ee7",
   "metadata": {
    "execution": {
     "iopub.execute_input": "2022-05-17T18:45:46.716377Z",
     "iopub.status.busy": "2022-05-17T18:45:46.716087Z",
     "iopub.status.idle": "2022-05-17T18:45:46.729586Z",
     "shell.execute_reply": "2022-05-17T18:45:46.728656Z"
    },
    "papermill": {
     "duration": 0.401016,
     "end_time": "2022-05-17T18:45:46.731935",
     "exception": false,
     "start_time": "2022-05-17T18:45:46.330919",
     "status": "completed"
    },
    "tags": []
   },
   "outputs": [
    {
     "data": {
      "text/plain": [
       "id\n",
       "0009d135ece78d       ddfd239c c6cd22db 1372ae9b 90ed07ab 7f388a41 2843a25a 06dbf8cf f9893819 ba55e576 39e937ec e25aa9bd 0a226b6a 8cb8d28a\n",
       "0010483c12ba9b                                  54c7cab3 fe66203e 7844d5f8 5ce8863c 4a0777c4 4703bb6d 4a32c095 865ad516 02a0be6d 7f270e34\n",
       "0010a919d60e4f    aafc3d23 80e077ec b190ebb4 ed415c3c 322850af c069ed33 868c4eae 80433cf3 bd8fbd76 0e2529e8 1345b8b2 cdae286f 4907b9ef...\n",
       "0028856e09c5b7                                                                                        012c9d02 d22526d1 3ae7ece3 eb293dfc\n",
       "Name: cell_order, dtype: object"
      ]
     },
     "execution_count": 24,
     "metadata": {},
     "output_type": "execute_result"
    }
   ],
   "source": [
    "y_sample = pd.read_csv(data_dir / 'sample_submission.csv', index_col='id', squeeze=True)\n",
    "y_sample"
   ]
  },
  {
   "cell_type": "markdown",
   "id": "51bd12b5",
   "metadata": {
    "papermill": {
     "duration": 0.379486,
     "end_time": "2022-05-17T18:45:47.500031",
     "exception": false,
     "start_time": "2022-05-17T18:45:47.120545",
     "status": "completed"
    },
    "tags": []
   },
   "source": [
    "We can see that a correctly formatted submission needs the index named `id` and the column of cell orders named `cell_order`. Moreover, we need to convert the list of cell ids into a space-delimited string of cell ids."
   ]
  },
  {
   "cell_type": "code",
   "execution_count": 25,
   "id": "fb54c8df",
   "metadata": {
    "execution": {
     "iopub.execute_input": "2022-05-17T18:45:48.270159Z",
     "iopub.status.busy": "2022-05-17T18:45:48.269634Z",
     "iopub.status.idle": "2022-05-17T18:45:48.279690Z",
     "shell.execute_reply": "2022-05-17T18:45:48.278604Z"
    },
    "papermill": {
     "duration": 0.397362,
     "end_time": "2022-05-17T18:45:48.281959",
     "exception": false,
     "start_time": "2022-05-17T18:45:47.884597",
     "status": "completed"
    },
    "tags": []
   },
   "outputs": [
    {
     "data": {
      "text/plain": [
       "id\n",
       "0009d135ece78d       ddfd239c c6cd22db 1372ae9b 7f388a41 90ed07ab 2843a25a f9893819 8cb8d28a 06dbf8cf 0a226b6a e25aa9bd ba55e576 39e937ec\n",
       "0010483c12ba9b                                  54c7cab3 fe66203e 7844d5f8 7f270e34 5ce8863c 4a32c095 4a0777c4 02a0be6d 865ad516 4703bb6d\n",
       "0010a919d60e4f    aafc3d23 b7578789 80e077ec b190ebb4 ed415c3c 322850af 868c4eae c069ed33 bac960d3 8ce62db4 80433cf3 bd8fbd76 bbff12d4...\n",
       "0028856e09c5b7                                                                                        012c9d02 d22526d1 3ae7ece3 eb293dfc\n",
       "Name: cell_order, dtype: object"
      ]
     },
     "execution_count": 25,
     "metadata": {},
     "output_type": "execute_result"
    }
   ],
   "source": [
    "y_submit = (\n",
    "    y_infer\n",
    "    .apply(' '.join)  # list of ids -> string of ids\n",
    "    .rename_axis('id')\n",
    "    .rename('cell_order')\n",
    ")\n",
    "y_submit"
   ]
  },
  {
   "cell_type": "markdown",
   "id": "10b41888",
   "metadata": {
    "papermill": {
     "duration": 0.386658,
     "end_time": "2022-05-17T18:45:49.046864",
     "exception": false,
     "start_time": "2022-05-17T18:45:48.660206",
     "status": "completed"
    },
    "tags": []
   },
   "source": [
    "And finally we'll write out the formatted submissions to a file `submission.csv`. When we submit our notebook, it will be rerun on the full test data to create the submission file that's actually scored."
   ]
  },
  {
   "cell_type": "code",
   "execution_count": 26,
   "id": "5021ae24",
   "metadata": {
    "execution": {
     "iopub.execute_input": "2022-05-17T18:45:49.809608Z",
     "iopub.status.busy": "2022-05-17T18:45:49.809290Z",
     "iopub.status.idle": "2022-05-17T18:45:49.817362Z",
     "shell.execute_reply": "2022-05-17T18:45:49.816640Z"
    },
    "papermill": {
     "duration": 0.392381,
     "end_time": "2022-05-17T18:45:49.819767",
     "exception": false,
     "start_time": "2022-05-17T18:45:49.427386",
     "status": "completed"
    },
    "tags": []
   },
   "outputs": [],
   "source": [
    "y_submit.to_csv('submission.csv')"
   ]
  }
 ],
 "metadata": {
  "kernelspec": {
   "display_name": "Python 3",
   "language": "python",
   "name": "python3"
  },
  "language_info": {
   "codemirror_mode": {
    "name": "ipython",
    "version": 3
   },
   "file_extension": ".py",
   "mimetype": "text/x-python",
   "name": "python",
   "nbconvert_exporter": "python",
   "pygments_lexer": "ipython3",
   "version": "3.7.12"
  },
  "papermill": {
   "default_parameters": {},
   "duration": 196.195393,
   "end_time": "2022-05-17T18:45:51.830335",
   "environment_variables": {},
   "exception": null,
   "input_path": "__notebook__.ipynb",
   "output_path": "__notebook__.ipynb",
   "parameters": {},
   "start_time": "2022-05-17T18:42:35.634942",
   "version": "2.3.4"
  }
 },
 "nbformat": 4,
 "nbformat_minor": 5
}
